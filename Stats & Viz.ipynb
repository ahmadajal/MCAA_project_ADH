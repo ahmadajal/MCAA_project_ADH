{
 "cells": [
  {
   "cell_type": "code",
   "execution_count": 17,
   "metadata": {},
   "outputs": [],
   "source": [
    "import scipy.stats as st\n",
    "import numpy as np\n",
    "import scipy as sp\n",
    "import matplotlib.pyplot as plt\n",
    "%matplotlib inline\n",
    "\n",
    "import tqdm \n",
    "import tqdm.notebook\n",
    "import scipy \n",
    "import pandas as pd\n",
    "# temp: functions and more...\n",
    "from utils import *"
   ]
  },
  {
   "cell_type": "code",
   "execution_count": 15,
   "metadata": {},
   "outputs": [
    {
     "data": {
      "application/vnd.jupyter.widget-view+json": {
       "model_id": "18c2caf8322f408bb94ef10c53934c39",
       "version_major": 2,
       "version_minor": 0
      },
      "text/plain": [
       "HBox(children=(IntProgress(value=0, max=2000), HTML(value='')))"
      ]
     },
     "metadata": {},
     "output_type": "display_data"
    },
    {
     "name": "stderr",
     "output_type": "stream",
     "text": [
      "/home/ahmad/MCAA_project_ADH/utils.py:42: RuntimeWarning: overflow encountered in exp\n",
      "  result = np.exp(-beta * (fj - fi))\n"
     ]
    },
    {
     "name": "stdout",
     "output_type": "stream",
     "text": [
      "\n",
      "[1 1 1 1 1 1 1 1 1 1 1 1 1 1 1 1 1 1 1 1 1 1 1 1 1 1 1 1 1 1 1 1 1 1 1 1 1\n",
      " 1 1 1 1 1 1 1 1 1 1 1 1 1 1 1 1 1 1 1 1 1 1 1 1 0 1 1 1 1 1 1 1 1 1 1 1 1\n",
      " 1 1 1 1 1 1 1 1 1 1 1 1 1 1 1 1 1 1 1 1 1 1 1 1 1 1]\n",
      "fM -50.39348150372224\n"
     ]
    },
    {
     "data": {
      "image/png": "[encoded data removed]",
      "text/plain": [
       "<Figure size 432x288 with 1 Axes>"
      ]
     },
     "metadata": {
      "needs_background": "light"
     },
     "output_type": "display_data"
    }
   ],
   "source": [
    "# np.random.seed(42)\n",
    "n_iter = 2000\n",
    "\n",
    "# parametersc\n",
    "l = 0.3 # lambda in [0,1]\n",
    "beta = 100\n",
    "\n",
    "# initialization\n",
    "N = 100\n",
    "n_selected = 0\n",
    "g = G1(N)\n",
    "g = G2(N)\n",
    "citiesX = g.x\n",
    "citiesV = g.v\n",
    "\n",
    "selectedCities_n = np.random.randint(2, size=(N))\n",
    "\n",
    "# Precompute all pairwise distances between points\n",
    "# TODO: This probably should be euclidean distance instead of squared distance?\n",
    "# (this currently matches Heloise's original code)\n",
    "pairwise_distances = scipy.spatial.distance.squareform(scipy.spatial.distance.pdist(citiesX, 'euclidean'))\n",
    "\n",
    "fs = np.zeros(n_iter) #keep record of objective function (in fact, minus objective function)\n",
    "fs[0] = objectiveFunction(N, l, citiesV, selectedCities_n, pairwise_distances)\n",
    "\n",
    "for m in tqdm.notebook.tqdm(range(n_iter)):\n",
    "    fs[m] = objectiveFunction(N, l, citiesV, selectedCities_n, pairwise_distances)\n",
    "    selectedCities_n = step(N, citiesX, citiesV, selectedCities_n, beta, l, pairwise_distances)\n",
    "    \n",
    "print(selectedCities_n)\n",
    "print('fM '+ str(fs[n_iter-1]))\n",
    "plt.figure()\n",
    "plt.plot(np.arange(n_iter), fs);"
   ]
  },
  {
   "cell_type": "code",
   "execution_count": 38,
   "metadata": {},
   "outputs": [],
   "source": [
    "def effect_of_beta(n_iter, l, generator, N, beta_range, num_runs):\n",
    "    # dictionary to save the results\n",
    "    results = {beta: [] for beta in beta_range}\n",
    "    g = generator(N)\n",
    "    citiesX = g.x\n",
    "    citiesV = g.v\n",
    "    pairwise_distances = scipy.spatial.distance.squareform(scipy.spatial.distance.pdist(citiesX, 'euclidean'))\n",
    "    \n",
    "    for i in range(num_runs):\n",
    "        selectedCities_n = np.random.randint(2, size=(N))\n",
    "        for beta in beta_range:\n",
    "            fs = np.zeros(n_iter) #keep record of objective function (in fact, minus objective function)\n",
    "            fs[0] = objectiveFunction(N, l, citiesV, selectedCities_n, pairwise_distances)\n",
    "            for m in range(n_iter):\n",
    "                fs[m] = objectiveFunction(N, l, citiesV, selectedCities_n, pairwise_distances)\n",
    "                selectedCities_n = step(N, citiesX, citiesV, selectedCities_n, beta, l, pairwise_distances)\n",
    "            # save the result\n",
    "            results[beta].append(fs[-1])\n",
    "    df = pd.DataFrame(results)\n",
    "    df.plot(kind=\"box\", title=r\"Effect of $\\beta$. Results are for {} runs\".format(num_runs))\n",
    "    plt.xlabel(r\"$\\beta$\")\n",
    "    plt.ylabel(\"min(f)\")\n",
    "    return results"
   ]
  },
  {
   "cell_type": "code",
   "execution_count": 39,
   "metadata": {},
   "outputs": [
    {
     "data": {
      "image/png": "[encoded data removed]",
      "text/plain": [
       "<Figure size 432x288 with 1 Axes>"
      ]
     },
     "metadata": {
      "needs_background": "light"
     },
     "output_type": "display_data"
    }
   ],
   "source": [
    "r = effect_of_beta(2000, 0.3, G2, 100, [5, 10, 100], 10)"
   ]
  },
  {
   "cell_type": "code",
   "execution_count": null,
   "metadata": {},
   "outputs": [],
   "source": []
  }
 ],
 "metadata": {
  "kernelspec": {
   "display_name": "Python 3",
   "language": "python",
   "name": "python3"
  },
  "language_info": {
   "codemirror_mode": {
    "name": "ipython",
    "version": 3
   },
   "file_extension": ".py",
   "mimetype": "text/x-python",
   "name": "python",
   "nbconvert_exporter": "python",
   "pygments_lexer": "ipython3",
   "version": "3.7.3"
  }
 },
 "nbformat": 4,
 "nbformat_minor": 2
}
