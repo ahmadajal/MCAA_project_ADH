{
 "cells": [
  {
   "cell_type": "code",
   "execution_count": 1,
   "metadata": {},
   "outputs": [],
   "source": [
    "import scipy.stats as st\n",
    "import numpy as np\n",
    "import scipy as sp\n",
    "import matplotlib.pyplot as plt\n",
    "%matplotlib inline\n",
    "\n",
    "import tqdm \n",
    "import tqdm.notebook\n",
    "import scipy \n",
    "import pandas as pd\n",
    "# temp: functions and more...\n",
    "from optimization import *\n",
    "import optimization_clean as opt_clean\n",
    "\n",
    "%load_ext autoreload\n",
    "%autoreload 2"
   ]
  },
  {
   "cell_type": "markdown",
   "metadata": {},
   "source": [
    "### How do the values $\\mathbb{E}_{\\mathcal{G}} [|\\mathcal{S}^{\\ast}(\\lambda)|]$ and $\\mathbb{E}_{\\mathcal{G}} [f(\\lambda, \\mathcal{S}^{\\ast}(\\lambda))]$ evolve with respect to $\\lambda$?\n",
    "\n",
    "For now we fix $\\beta = 10$, to run this experiment."
   ]
  },
  {
   "cell_type": "code",
   "execution_count": 5,
   "metadata": {},
   "outputs": [],
   "source": [
    "n_iter = 10000\n",
    "def beta(i, n_iter):\n",
    "    if i < n_iter * (1/5) :\n",
    "        return 1\n",
    "    elif i < n_iter * (2/5):\n",
    "        return 5\n",
    "    elif i < n_iter * (3/5):\n",
    "        return 10\n",
    "    elif i < n_iter * (4/5):\n",
    "        return 20\n",
    "    else: \n",
    "        return 50"
   ]
  },
  {
   "cell_type": "code",
   "execution_count": 6,
   "metadata": {},
   "outputs": [],
   "source": [
    "def effect_of_lambda(n_iter, beta, generator, N, lambda_range, num_runs, mutation_strategy, init_prob):\n",
    "    # dictionary to save the results\n",
    "    results_f = {l: [] for l in lambda_range}\n",
    "    results_num_cities = {l: [] for l in lambda_range}\n",
    "    for i in range(num_runs):\n",
    "        cities = generator(N)\n",
    "        for l in lambda_range:\n",
    "            if mutation_strategy == 5:\n",
    "                sel_c_conv, loss_convex = opt_clean.optimize(\n",
    "                        cities, l, beta=beta, n_iter=n_iter, verbose=False, use_kd_tree=True)\n",
    "            else:\n",
    "                sel_c, sel_c_conv, loss_values, loss_convex = optimize(cities, l, beta=beta, \n",
    "                                          n_iter=n_iter,mutation_strategy=mutation_strategy,\n",
    "                                          initial_selection_probability=init_prob,\n",
    "                                          precompute_pairwise_dist=False, verbose=False)\n",
    "            # save the result\n",
    "            results_f[l].append(loss_convex)\n",
    "            if mutation_strategy == 5:\n",
    "                results_num_cities[l].append(sum(sel_c_conv[-1]))\n",
    "            else:\n",
    "                results_num_cities[l].append(sum(sel_c_conv))\n",
    "    return results_num_cities, results_f"
   ]
  },
  {
   "cell_type": "code",
   "execution_count": 7,
   "metadata": {
    "scrolled": true
   },
   "outputs": [
    {
     "name": "stdout",
     "output_type": "stream",
     "text": [
      "strategy 0 finished\n",
      "strategy 1 finished\n",
      "strategy 3 finished\n",
      "Convex  -4.445303220413687  vs  -4.445303220413688\n",
      "Convex  -119.96767111098177  vs  -119.9676711109818\n",
      "Convex  -48.08889756137471  vs  -48.088897561374736\n",
      "strategy 5 finished\n"
     ]
    }
   ],
   "source": [
    "N = 1000\n",
    "num_iter = 1000\n",
    "num_runs = 1\n",
    "lambda_range = [0, 0.2, 0.4, 0.6, 0.8, 1]\n",
    "# mutation_strategy=3\n",
    "init_prob=0.0\n",
    "\n",
    "r_G1_num_cities={0: [], 1: [], 3: [], 5: []}\n",
    "r_G1_f={0: [], 1: [], 3: [], 5: []}\n",
    "\n",
    "r_G2_num_cities={0: [], 1: [], 3: [], 5: []}\n",
    "r_G2_f={0: [], 1: [], 3: [], 5: []}\n",
    "for i in [0, 1, 3, 5]:\n",
    "    r_G1_num_cities[i], r_G1_f[i] =  effect_of_lambda(num_iter, beta, G1, N, lambda_range, num_runs, mutation_strategy=i, init_prob=init_prob)\n",
    "\n",
    "    r_G2_num_cities[i], r_G2_f[i] =  effect_of_lambda(num_iter, beta, G2, N, lambda_range, num_runs, mutation_strategy=i, init_prob=init_prob)\n",
    "    print(\"strategy {} finished\".format(i))"
   ]
  },
  {
   "cell_type": "code",
   "execution_count": 8,
   "metadata": {},
   "outputs": [
    {
     "data": {
      "text/plain": [
       "{0: {0: [988], 0.2: [18], 0.4: [5], 0.6: [3], 0.8: [3], 1: [1]},\n",
       " 1: {0: [981], 0.2: [16], 0.4: [7], 0.6: [1], 0.8: [2], 1: [1]},\n",
       " 2: [],\n",
       " 3: {0: [874], 0.2: [885], 0.4: [10], 0.6: [4], 0.8: [2], 1: [1]},\n",
       " 5: {0: [1000], 0.2: [899], 0.4: [834], 0.6: [40], 0.8: [8], 1: [7]}}"
      ]
     },
     "execution_count": 8,
     "metadata": {},
     "output_type": "execute_result"
    }
   ],
   "source": [
    "r_G1_num_cities"
   ]
  },
  {
   "cell_type": "code",
   "execution_count": null,
   "metadata": {},
   "outputs": [],
   "source": [
    "fig, ax = plt.subplots(2, 2, figsize=(12, 10))\n",
    "\n",
    "fig.text(0.3, 1, r\"Effect of $\\lambda$. Results are for {} runs\".format(num_runs), fontsize=12)\n",
    "for i in [0, 1, 3, 5]:\n",
    "    ax[0][0].plot(lambda_range, [np.mean(i) for i in r_G1_num_cities[i].values()], label=\"strategy {}\".format(i))\n",
    "    ax[0][0].set_title(r\"$\\mathbb{E}_{\\mathcal{G}} [|\\mathcal{S}^{\\ast}(\\lambda)|]$ for uniform generator $\\mathcal{G}_1$\")\n",
    "    ax[0][0].legend()\n",
    "\n",
    "for i in [0, 1, 3, 5]:\n",
    "    ax[0][1].plot(lambda_range, [np.mean(i) for i in r_G2_num_cities[i].values()], label=\"strategy {}\".format(i))\n",
    "    ax[0][1].set_title(r\"$\\mathbb{E}_{\\mathcal{G}} [|\\mathcal{S}^{\\ast}(\\lambda)|]$ for log_normal generator $\\mathcal{G}_2$\")\n",
    "    ax[0][1].legend()\n",
    "\n",
    "for i in [0, 1, 3, 5]:\n",
    "    ax[1][0].plot(lambda_range, [np.mean(i) for i in r_G1_f[i].values()], label=\"strategy {}\".format(i))\n",
    "    ax[1][0].set_title(r\"$\\mathbb{E}_{\\mathcal{G}} [f(\\lambda, \\mathcal{S}^{\\ast}(\\lambda))]$ for uniform generator $\\mathcal{G}_1$\")\n",
    "    ax[1][0].legend()\n",
    "    \n",
    "for i in [0, 1, 3, 5]:\n",
    "    ax[1][1].plot(lambda_range, [np.mean(i) for i in r_G2_f[i].values()], label=\"strategy {}\".format(i))\n",
    "    ax[1][1].set_title(r\"$\\mathbb{E}_{\\mathcal{G}} [f(\\lambda, \\mathcal{S}^{\\ast}(\\lambda))]$ for log-normal generator $\\mathcal{G}_2$\")\n",
    "    ax[1][1].legend()\n",
    "    \n",
    "ax[1][0].set_xlabel(r\"$\\lambda$\")\n",
    "ax[1][1].set_xlabel(r\"$\\lambda$\")\n",
    "ax[0][0].set_ylabel(r\"$\\mathbb{E}_{\\mathcal{G}} [|\\mathcal{S}^{\\ast}(\\lambda)|]$\", fontsize=12)\n",
    "ax[1][0].set_ylabel(r\"$\\mathbb{E}_{\\mathcal{G}} [f(\\lambda, \\mathcal{S}^{\\ast}(\\lambda))]$\", fontsize=12)\n",
    "fig.savefig(\"Expectation_f_num_cities_{}.pdf\".format(N), dpi=1200);"
   ]
  },
  {
   "cell_type": "code",
   "execution_count": null,
   "metadata": {},
   "outputs": [],
   "source": []
  },
  {
   "cell_type": "markdown",
   "metadata": {},
   "source": [
    "### Effect of $\\beta$ (deprecated for now)\n",
    "\n",
    "For a fixed $\\lambda$ and different initializations of the selected cities, how does the value of value of $\\beta$ affects the minimum value acheived for the objective function?"
   ]
  },
  {
   "cell_type": "code",
   "execution_count": null,
   "metadata": {},
   "outputs": [],
   "source": [
    "def effect_of_beta(n_iter, l, cities, beta_range, num_runs, mutation_strategy, \n",
    "                   init_prob):\n",
    "    # dictionary to save the results\n",
    "    results = {beta: [] for beta in beta_range}\n",
    "    l = 0.8\n",
    "    for beta in beta_range:\n",
    "        np.random.seed(2)\n",
    "        for i in range(num_runs):\n",
    "            sel_c, sel_conv, loss, loss_convex = optimize(cities, l, beta=beta, \n",
    "                                          n_iter=n_iter, mutation_strategy=mutation_strategy,\n",
    "                                          initial_selection_probability=init_prob,\n",
    "                                          precompute_pairwise_dist=False, verbose=False)\n",
    "            # save the result\n",
    "            results[beta].append(loss_convex)\n",
    "    return results"
   ]
  },
  {
   "cell_type": "code",
   "execution_count": null,
   "metadata": {},
   "outputs": [],
   "source": [
    "N = 100\n",
    "num_iter = 5000\n",
    "num_runs = 10\n",
    "l = 0.4\n",
    "beta_range = [5, 10, 25, 50, 100, 1000]\n",
    "g = G1(N)\n",
    "mutation_strategy=3\n",
    "init_prob=1/N\n",
    "r_G1 = effect_of_beta(num_iter, l, g, beta_range, num_runs, mutation_strategy, init_prob)\n",
    "\n",
    "g = G2(N)\n",
    "r_G2 = effect_of_beta(num_iter, l, g, beta_range, num_runs, mutation_strategy, init_prob)"
   ]
  },
  {
   "cell_type": "code",
   "execution_count": null,
   "metadata": {
    "scrolled": true
   },
   "outputs": [],
   "source": [
    "fig, ax = plt.subplots(1, 2, figsize=(12, 5))\n",
    "df = pd.DataFrame(r_G1)\n",
    "fig.text(0.3, 1, r\"Effect of $\\beta$. Results are for {} runs when $\\lambda$ is fixed to {}\".format(num_runs, l), fontsize=12)\n",
    "df.plot(ax = ax[0], kind=\"box\", title= r\"uniform generator $\\mathcal{G}_1$\")\n",
    "df = pd.DataFrame(r_G2)\n",
    "df.plot(ax = ax[1], kind=\"box\", title= r\"log-normal generator $\\mathcal{G}_2$\")\n",
    "ax[1].set_xlabel(r\"$\\beta$\")\n",
    "ax[0].set_xlabel(r\"$\\beta$\")\n",
    "ax[0].set_ylabel(\"min(f)\");"
   ]
  }
 ],
 "metadata": {
  "kernelspec": {
   "display_name": "Python 3",
   "language": "python",
   "name": "python3"
  },
  "language_info": {
   "codemirror_mode": {
    "name": "ipython",
    "version": 3
   },
   "file_extension": ".py",
   "mimetype": "text/x-python",
   "name": "python",
   "nbconvert_exporter": "python",
   "pygments_lexer": "ipython3",
   "version": "3.7.3"
  }
 },
 "nbformat": 4,
 "nbformat_minor": 2
}
