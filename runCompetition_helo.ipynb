{
 "cells": [
  {
   "cell_type": "code",
   "execution_count": null,
   "metadata": {},
   "outputs": [],
   "source": [
    "%reload_ext autoreload\n",
    "%autoreload 2\n",
    "\n",
    "import time\n",
    "import itertools\n",
    "import numpy as np\n",
    "import matplotlib.pyplot as plt\n",
    "\n",
    "import tqdm \n",
    "import tqdm.notebook\n",
    "\n",
    "from util import G1, G2, objective_function\n",
    "import multiprocessing\n",
    "import baseline\n",
    "import smooth\n",
    "import convexhull\n",
    "import clustering\n",
    "import matplotlib\n",
    "font = {'size' : 12}\n",
    "matplotlib.rc('font', **font)\n",
    "\n",
    "import IO_read_write as io\n",
    "\n",
    "import ipywidgets as wj"
   ]
  },
  {
   "cell_type": "code",
   "execution_count": null,
   "metadata": {},
   "outputs": [],
   "source": [
    "g=io.input_read('sample_input.csv')\n",
    "l = 0.9 # lambda\n",
    "seed = 1\n",
    "np.random.seed(42231 + seed)\n",
    "N = g.x.shape[0]\n"
   ]
  },
  {
   "cell_type": "code",
   "execution_count": null,
   "metadata": {},
   "outputs": [],
   "source": [
    "nbetas=4\n",
    "def my_beta(i, n_iter):\n",
    "    iters=np.linspace(0, n_iter, num=5)\n",
    "    thebetas=[1,5,10,20,30,50]\n",
    "    for j in range (len(iters)):\n",
    "        if i<iters[j]:\n",
    "            return thebetas[j]\n",
    "\n",
    "def my_beta2(i, n_iter):\n",
    "    if i < n_iter // 2:\n",
    "        return 5\n",
    "    elif i < n_iter * 2 / 3:\n",
    "        return 10\n",
    "    else:\n",
    "        return 20\n",
    "\n",
    "# betas = {baseline: beta2, convexhull: beta2, \n",
    "#                 clustering: 10, smooth: beta}\n",
    "betas = {baseline: my_beta, convexhull: my_beta, \n",
    "                clustering: 10, smooth: my_beta}\n",
    "\n",
    "my_beta(50,100)\n",
    "\n",
    "methods = [baseline, convexhull, smooth]\n",
    "def run_optimization(i,n_iter):\n",
    "    np.random.seed(i + seed)\n",
    "    curr_selected, curr_loss_values, number_of_selected_cities = methods[i].optimize(\n",
    "            g, l, beta=betas[methods[i]], n_iter=n_iter, verbose=True)    \n",
    "    return curr_selected, curr_loss_values"
   ]
  },
  {
   "cell_type": "code",
   "execution_count": null,
   "metadata": {},
   "outputs": [],
   "source": [
    "def full_run(k,betas):\n",
    "    #methods = [baseline, convexhull, smooth]\n",
    "    method_names = {baseline: 'Baseline', convexhull: 'Convex hull', \n",
    "                    clustering: 'Clustering', smooth: 'Continuous MC (Final method)'}\n",
    "    \n",
    "    selected=[]\n",
    "    selected_loss_values=[0]\n",
    "\n",
    "    for step in range (k):\n",
    "        print('step '+str(step)+', current loss '+str(selected_loss_values[-1]))\n",
    "        n_iter = 5000\n",
    "        total_runs = len(methods)\n",
    "        losses = []\n",
    "        all_selected = []\n",
    "        for i in tqdm.notebook.tqdm(range(total_runs)):\n",
    "            selected, loss_values = run_optimization(i,n_iter)\n",
    "            losses.append(loss_values)\n",
    "            all_selected.append(selected)\n",
    "\n",
    "        # Select the best solution\n",
    "        losses = np.array(losses)\n",
    "        min_idx = np.argmin(losses[:, -1])\n",
    "        print('new loss= '+str(losses[min_idx, -1]))\n",
    "        print('current los= '+str(selected_loss_values[-1]))\n",
    "        if (losses[min_idx, -1]<selected_loss_values[-1]):\n",
    "            selected_loss_values = losses[min_idx, :]\n",
    "            selected = all_selected[min_idx]\n",
    "            np.save('solbest', selected)\n",
    "    \n",
    "    return selected, selected_loss_values, method_names[methods[min_idx]]\n",
    "  "
   ]
  },
  {
   "cell_type": "code",
   "execution_count": null,
   "metadata": {},
   "outputs": [],
   "source": [
    "result, resultloss,name=full_run(2,betas)"
   ]
  },
  {
   "cell_type": "code",
   "execution_count": null,
   "metadata": {},
   "outputs": [],
   "source": [
    "clustering.plotResult(g, 0, result, result, resultloss, resultloss[-1], None, verbose=True)\n",
    "print(name)"
   ]
  },
  {
   "cell_type": "code",
   "execution_count": null,
   "metadata": {},
   "outputs": [],
   "source": [
    "#verify\n",
    "solution=np.load('solbest.npy')\n",
    "f=objective_function(l, g, solution)\n",
    "print(f)"
   ]
  },
  {
   "cell_type": "code",
   "execution_count": null,
   "metadata": {},
   "outputs": [],
   "source": [
    "io.write_output(solution,'results/sol1')"
   ]
  },
  {
   "cell_type": "code",
   "execution_count": null,
   "metadata": {},
   "outputs": [],
   "source": [
    "test=io.read_output('results/sol1.csv')\n",
    "#print(test)\n",
    "\n",
    "sol=test==1\n",
    "f=objective_function(l, g, sol)\n",
    "print(f)"
   ]
  },
  {
   "cell_type": "markdown",
   "metadata": {},
   "source": [
    "## Test all solutions"
   ]
  },
  {
   "cell_type": "code",
   "execution_count": null,
   "metadata": {},
   "outputs": [],
   "source": [
    "import os\n",
    "\n",
    "fmin=0\n",
    "selected=np.zeros(N)\n",
    "\n",
    "directory = r'results'\n",
    "for entry in os.scandir(directory):\n",
    "    if (entry.path.endswith(\".csv\")):\n",
    "        name=entry.path\n",
    "        print(name)\n",
    "        soli=io.read_output(name)\n",
    "        f=objective_function(l, g, soli)\n",
    "        if f<fmin:\n",
    "            fmin=f\n",
    "            selected=soli\n",
    "clustering.plotResult(g, 0, result, result, resultloss, resultloss[-1], None, verbose=True)\n",
    "\n",
    "            "
   ]
  }
 ],
 "metadata": {
  "kernelspec": {
   "display_name": "Python 3",
   "language": "python",
   "name": "python3"
  },
  "language_info": {
   "codemirror_mode": {
    "name": "ipython",
    "version": 3
   },
   "file_extension": ".py",
   "mimetype": "text/x-python",
   "name": "python",
   "nbconvert_exporter": "python",
   "pygments_lexer": "ipython3",
   "version": "3.7.8"
  }
 },
 "nbformat": 4,
 "nbformat_minor": 4
}
