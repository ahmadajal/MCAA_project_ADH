{
 "cells": [
  {
   "cell_type": "code",
   "execution_count": null,
   "metadata": {},
   "outputs": [],
   "source": [
    "# This reloads python code imported from *.py files automatically\n",
    "%reload_ext autoreload\n",
    "%autoreload 2\n",
    "\n",
    "import numpy as np\n",
    "import matplotlib.pyplot as plt\n",
    "import tqdm \n",
    "import tqdm.notebook\n",
    "from optimization import *\n",
    "import time\n"
   ]
  },
  {
   "cell_type": "code",
   "execution_count": null,
   "metadata": {},
   "outputs": [],
   "source": [
    "n = 100\n",
    "n_iter = 1000\n",
    "distr = [G1, G2]\n",
    "lambdas = [0.1, 0.25, 0.7, 0.95]\n",
    "\n",
    "n_cities = 10\n",
    "n_seeds = 2\n",
    "\n",
    "mutation_strategies = [0, 1, 3]\n",
    "init_prob = 0.0\n",
    "betas = [1, 2, 5, 50]\n",
    "\n",
    "# Evaluate over init_prob, beta\n",
    "\n",
    "results = {}\n",
    "\n",
    "total_runs = len(distr) * len(lambdas) * n_cities * n_seeds * len(mutation_strategies) * len(betas)\n",
    "progress_bar = tqdm.notebook.tqdm(range(total_runs))\n",
    "    \n",
    "for d in distr:\n",
    "    results[d.__name__] = {}\n",
    "    ld = results[d.__name__]\n",
    "    for lambd in lambdas:\n",
    "        md = {}\n",
    "        ld[lambd] = md\n",
    "        for mutation in mutation_strategies:\n",
    "            md[mutation] = {}\n",
    "            \n",
    "        for beta in betas:\n",
    "            for mutation in mutation_strategies:\n",
    "                md[mutation][beta] = []\n",
    "            \n",
    "            # Generate a current cities and different seeds\n",
    "            for s in range(n_cities):\n",
    "                np.random.seed(s)\n",
    "                cities = d(n)\n",
    "                for seed in range(n_seeds):\n",
    "                    for mutation in mutation_strategies:\n",
    "                        idx = n_seeds * s + seed\n",
    "                        np.random.seed(idx)\n",
    "                        sel_c, sel_conv, loss, loss_convex = optimize(cities,\n",
    "                                                                      lambd, \n",
    "                                                                      beta=beta, \n",
    "                                                                      n_iter=n_iter,\n",
    "                                                                      mutation_strategy=mutation, \n",
    "                                                                      initial_selection_probability=init_prob, \n",
    "                                                                      verbose=False)\n",
    "                        md[mutation][beta].append(loss_convex)\n",
    "                        progress_bar.update()\n"
   ]
  },
  {
   "cell_type": "code",
   "execution_count": null,
   "metadata": {},
   "outputs": [],
   "source": [
    "# Plot results: Plot for each lambda the different mutation strategies\n",
    "# for different values of beta\n",
    "\n",
    "fig, ax = plt.subplots(len(distr), len(lambdas), figsize=(12, 8))\n",
    "\n",
    "for i, d in enumerate(distr):\n",
    "\n",
    "    for j, l in enumerate(lambdas):\n",
    "\n",
    "        for beta_idx, beta in enumerate(betas):\n",
    "\n",
    "            means = np.zeros(len(mutation_strategies))\n",
    "            std = np.zeros(len(mutation_strategies))\n",
    "            for k, m in enumerate(mutation_strategies):\n",
    "                means[k] = np.mean(results[d.__name__][l][m][beta])\n",
    "                std[k] = np.std(results[d.__name__][l][m][beta])\n",
    "\n",
    "            curr_ax = ax[i] if len(lambdas) == 1 else ax[i, j]\n",
    "            curr_ax.errorbar(np.arange(len(mutation_strategies)) + beta_idx /\n",
    "                             len(betas) * 0.1, means, std[k], linestyle='None', marker='^')\n",
    "#             plt.errorbar(x, y, e, linestyle='None', marker='^')\n",
    "            curr_ax.set_title(f'{d.__name__}, $\\lambda = {l}$')\n",
    "            curr_ax.legend(betas, title='beta')\n",
    "            curr_ax.set_xticks(np.arange(len(mutation_strategies)))\n",
    "            curr_ax.set_xlabel(\"Mutation strategy\")\n",
    "            curr_ax.set_ylabel(\"Average loss (lower is better)\")\n",
    "\n",
    "fig.tight_layout(pad=2)"
   ]
  },
  {
   "cell_type": "code",
   "execution_count": null,
   "metadata": {},
   "outputs": [],
   "source": [
    "\n"
   ]
  },
  {
   "cell_type": "code",
   "execution_count": null,
   "metadata": {},
   "outputs": [],
   "source": []
  }
 ],
 "metadata": {
  "kernelspec": {
   "display_name": "Python 3",
   "language": "python",
   "name": "python3"
  },
  "language_info": {
   "codemirror_mode": {
    "name": "ipython",
    "version": 3
   },
   "file_extension": ".py",
   "mimetype": "text/x-python",
   "name": "python",
   "nbconvert_exporter": "python",
   "pygments_lexer": "ipython3",
   "version": "3.8.6"
  }
 },
 "nbformat": 4,
 "nbformat_minor": 4
}
