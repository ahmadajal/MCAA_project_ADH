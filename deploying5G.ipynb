{
 "cells": [
  {
   "cell_type": "code",
   "execution_count": null,
   "metadata": {},
   "outputs": [],
   "source": [
    "# This reloads python code imported from *.py files automatically\n",
    "%reload_ext autoreload\n",
    "%autoreload 2"
   ]
  },
  {
   "cell_type": "code",
   "execution_count": null,
   "metadata": {
    "id": "BMV_GyHTe-A5"
   },
   "outputs": [],
   "source": [
    "import numpy as np\n",
    "import matplotlib.pyplot as plt\n",
    "\n",
    "import tqdm \n",
    "import tqdm.notebook\n",
    "\n",
    "from optimization import *\n",
    "\n",
    "import time\n",
    "# optimal solution\n",
    "from optimal_solution import opt_solution"
   ]
  },
  {
   "cell_type": "code",
   "execution_count": null,
   "metadata": {
    "id": "9_4LNOEAfb6H"
   },
   "outputs": [],
   "source": []
  },
  {
   "cell_type": "code",
   "execution_count": null,
   "metadata": {
    "id": "69EQnzkcgxtb"
   },
   "outputs": [],
   "source": [
    "# Uniform distribution\n",
    "\n",
    "g1 = G1()\n",
    "# Plot a histogram of the v array\n",
    "plt.hist(g1.v, bins=30)\n",
    "plt.show()\n",
    "\n",
    "# plot the position of the points\n",
    "plt.figure(figsize=(5,5))\n",
    "plt.scatter(g1.x[:,0], g1.x[:,1])\n",
    "plt.show()\n",
    "\n",
    "g1.refresh() # generate a new dataset\n",
    "plt.hist(g1.v, bins=30)\n",
    "plt.show()\n",
    "\n",
    "m = np.array([0., 0.])\n",
    "\n",
    "for _ in range(10):\n",
    "  g1.refresh() # refresh the dataset\n",
    "  m  += 0.1*g1.x.mean()\n",
    "\n",
    "print(m)\n",
    "\n",
    "# Log normal distribution\n",
    "g2 = G2()\n",
    "plt.hist(g2.v, bins=30)\n",
    "plt.show()\n",
    "g2.refresh()\n",
    "plt.hist(g2.v, bins=30)\n",
    "plt.show()"
   ]
  },
  {
   "cell_type": "markdown",
   "metadata": {
    "id": "UrAwB81ykRCM"
   },
   "source": [
    "---"
   ]
  },
  {
   "cell_type": "code",
   "execution_count": null,
   "metadata": {},
   "outputs": [],
   "source": [
    "np.random.seed(42)\n",
    "#n_iter = 20000\n",
    "n_iter = 5000\n",
    "\n",
    "# parametersc\n",
    "l = 0.8 # lambda in [0,1]\n",
    "#l = 0.2 # lambda in [0,1]\n",
    "beta = 25\n",
    "#beta = 0.7\n",
    "beta=100\n",
    "\n",
    "# initialization\n",
    "N = 1000\n",
    "n_selected = 0\n",
    "g = G1(N)\n",
    "g = G2(N)\n",
    "citiesX = g.x\n",
    "citiesV = g.v\n",
    "\n",
    "#other options\n",
    "initial_selection_probability=0.2\n",
    "#initial_selection_probability=1/N\n"
   ]
  },
  {
   "cell_type": "markdown",
   "metadata": {},
   "source": [
    "## Optimizations with different stategies"
   ]
  },
  {
   "cell_type": "code",
   "execution_count": null,
   "metadata": {},
   "outputs": [],
   "source": [
    "def plotResult(duration,selected_cities_n,selected_cities_n_convex,loss_values,loss_value_convex,num_cities_per_step):\n",
    "    print(\"d= %s seconds\" % duration)\n",
    "    if loss_value_convex is not None:\n",
    "        print('Final loss '+ str(loss_values[-2])) #be careful, at the end we want to return '-final loss'\n",
    "        print('Final loss with Convex Hull '+ str(loss_value_convex))\n",
    "    else:\n",
    "        print('Final loss '+ str(loss_values[-1]))\n",
    "    #print(selected_cities_n)\n",
    "\n",
    "    fig,axes=plt.subplots(1,2,figsize=(12,4))\n",
    "    #fig.suptitle('Results')\n",
    "    axes[0].plot(loss_values)\n",
    "    axes[0].set_ylabel('Loss')\n",
    "    axes[0].set_xlabel('Iterations')\n",
    "    axes[0].set_title('Loss Evolution')\n",
    "    m = selected_cities_n == 1\n",
    "    axes[1].scatter(g.x[:, 0], g.x[:, 1],label='Non selected Cities')\n",
    "    axes[1].scatter(g.x[m, 0], g.x[m, 1], c='r',label='Selected cities')\n",
    "    if selected_cities_n_convex is not None:\n",
    "        mbis = (selected_cities_n_convex==1) & (selected_cities_n==0)\n",
    "        mter = (selected_cities_n_convex==0) & (selected_cities_n==1)\n",
    "        axes[1].scatter(g.x[mbis, 0], g.x[mbis, 1], c='g',label='Added cities (Convex Hull)')\n",
    "        axes[1].scatter(g.x[mter, 0], g.x[mter, 1], c='y',label='Selected Cities not in Convex Hull')\n",
    "    axes[1].set_title('Selected cities')\n",
    "    box = axes[1].get_position()\n",
    "    axes[1].set_position([box.x0, box.y0, box.width * 0.8, box.height])\n",
    "    # Put a legend to the right of the current axis\n",
    "    axes[1].legend(loc='center left', bbox_to_anchor=(1, 0.5))\n",
    "        \n",
    "    plt.xlim(0, 1)\n",
    "    plt.ylim(0, 1)\n",
    "    \n",
    "    if num_cities_per_step is not None:\n",
    "        plt.figure(figsize=(4,2))\n",
    "        plt.plot(np.arange(n_iter), num_cities_per_step)\n",
    "        plt.title(\"#selected cities in each step\")"
   ]
  },
  {
   "cell_type": "markdown",
   "metadata": {},
   "source": [
    "#### Optimization with mutation strategy 0"
   ]
  },
  {
   "cell_type": "code",
   "execution_count": null,
   "metadata": {},
   "outputs": [],
   "source": [
    "# Run the optimization to compute the selected cities\n",
    "np.random.seed(52)\n",
    "start_time = time.time()\n",
    "selected_cities_n, selected_cities_n_convex, loss_values,loss_value_convex = optimize(g, l, beta=beta, n_iter=n_iter,mutation_strategy=0, initial_selection_probability=initial_selection_probability,precompute_pairwise_dist=False, verbose=True)\n",
    "d=(time.time() - start_time)\n",
    "num_cities_per_step = np.array(selected_cities_n).sum(axis=1)\n",
    "if type(selected_cities_n) == list:\n",
    "    selected_cities_n = selected_cities_n[-1]\n",
    "    \n",
    "loss_values[-1]=(loss_value_convex) \n",
    "plotResult(d,selected_cities_n,selected_cities_n_convex,loss_values,loss_value_convex,num_cities_per_step)\n",
    "\n",
    "# f_st.append(loss_values)\n",
    "# times_st.append(d)\n"
   ]
  },
  {
   "cell_type": "markdown",
   "metadata": {},
   "source": [
    "#### Optimization with mutation strategy 2 = Flipping strategy"
   ]
  },
  {
   "cell_type": "code",
   "execution_count": null,
   "metadata": {},
   "outputs": [],
   "source": [
    "np.random.seed(52)\n",
    "start_time = time.time()\n",
    "selected_cities_n, selected_cities_n_convex, loss_values,loss_value_convex = optimize(g, l, beta=beta, \n",
    "                                          n_iter=n_iter,mutation_strategy=2,initial_selection_probability=initial_selection_probability,\n",
    "                                          precompute_pairwise_dist=False, verbose=True)\n",
    "d=(time.time() - start_time)\n",
    "if type(selected_cities_n) == list:\n",
    "    selected_cities_n = selected_cities_n[-1]\n",
    "    \n",
    "loss_values[-1]=(loss_value_convex)   \n",
    "plotResult(d,selected_cities_n,selected_cities_n_convex,loss_values,loss_value_convex,None)  \n",
    "    \n",
    "# f_st.append(loss_values)\n",
    "# times_st.append(d)"
   ]
  },
  {
   "cell_type": "markdown",
   "metadata": {},
   "source": [
    "#### Optimization with mutation strategy 3 = Convex Hull function"
   ]
  },
  {
   "cell_type": "code",
   "execution_count": null,
   "metadata": {},
   "outputs": [],
   "source": [
    "np.random.seed(52)\n",
    "start_time = time.time()\n",
    "selected_cities_n, selected_cities_n_convex, loss_values,loss_value_convex = optimize(g, l, beta=beta, \n",
    "                                          n_iter=n_iter,mutation_strategy=3,initial_selection_probability=initial_selection_probability,\n",
    "                                          precompute_pairwise_dist=False, verbose=True)\n",
    "d=(time.time() - start_time)\n",
    "if type(selected_cities_n) == list:\n",
    "    selected_cities_n = selected_cities_n[-1]\n",
    "\n",
    "loss_values[-1]=(loss_value_convex)   \n",
    "plotResult(d,selected_cities_n,selected_cities_n_convex,loss_values,loss_value_convex,None)  \n",
    "\n",
    "# f_st.append(loss_values)\n",
    "# times_st.append(d)"
   ]
  },
  {
   "cell_type": "markdown",
   "metadata": {},
   "source": [
    "### Combination 3 and 2"
   ]
  },
  {
   "cell_type": "code",
   "execution_count": null,
   "metadata": {},
   "outputs": [],
   "source": [
    "# First run\n",
    "start_time = time.time()\n",
    "selected_cities_n, selected_cities_n_convex, loss_values1,loss_value_convex = optimize(g, l, beta=beta, \n",
    "                                          n_iter=n_iter,mutation_strategy=3,\n",
    "                                          precompute_pairwise_dist=False, verbose=True)\n",
    "d1=(time.time() - start_time)\n",
    "loss_values1[-1]=(loss_value_convex)  \n",
    "if type(selected_cities_n) == list:\n",
    "    selected_cities_n = selected_cities_n[-1]\n",
    "\n",
    "# Second run  \n",
    "start_time = time.time()\n",
    "selected_cities_n, selected_cities_n_convex, loss_values,loss_value_convex = optimize_with_initialize(g, l, selected_cities_n_convex, beta=beta, \n",
    "                                          n_iter=n_iter,mutation_strategy=2,\n",
    "                                          precompute_pairwise_dist=False, verbose=True)\n",
    "d2=(time.time() - start_time)\n",
    "if type(selected_cities_n) == list:\n",
    "    selected_cities_n = selected_cities_n[-1]\n",
    "loss_values[-1]=(loss_value_convex) \n",
    "\n",
    "total_loss=np.concatenate((loss_values1,loss_values))\n",
    "total_loss=total_loss[::2]\n",
    "plotResult(d1+d2,selected_cities_n,selected_cities_n_convex,total_loss,loss_value_convex,None)  \n",
    "\n",
    "# f_st.append(loss_values)\n",
    "# times_st.append(d)"
   ]
  },
  {
   "cell_type": "markdown",
   "metadata": {},
   "source": [
    "#### Optimization with old code (for time comparison)"
   ]
  },
  {
   "cell_type": "code",
   "execution_count": null,
   "metadata": {},
   "outputs": [],
   "source": [
    "# # Run for comparison\n",
    "# np.random.seed(52)\n",
    "# start_time = time.time()\n",
    "# selected_cities_n, loss_values = optimize_old(g, l, beta=beta, n_iter=n_iter,precompute_pairwise_dist=False, verbose=True)\n",
    "# d=(time.time() - start_time)\n",
    "# print(\"d= %s seconds\" % d)\n",
    "# if type(selected_cities_n) == list:\n",
    "#     selected_cities_n = selected_cities_n[-1]\n",
    "# print(selected_cities_n)\n",
    "# print('Final loss '+ str(loss_values[n_iter-1]))\n",
    "# plt.figure()\n",
    "# plt.plot(np.arange(n_iter), loss_values);\n",
    "\n",
    "# plt.figure()\n",
    "# m = selected_cities_n == 1\n",
    "# plt.scatter(g.x[:, 0], g.x[:, 1])\n",
    "# plt.scatter(g.x[m, 0], g.x[m, 1], c='r')\n",
    "# plt.xlim(0, 1)\n",
    "# plt.ylim(0, 1)\n",
    "\n",
    "# f_st.append(loss_values)\n",
    "# times_st.append(d)"
   ]
  },
  {
   "cell_type": "markdown",
   "metadata": {},
   "source": [
    "## Plot Comparisons"
   ]
  },
  {
   "cell_type": "code",
   "execution_count": null,
   "metadata": {},
   "outputs": [],
   "source": [
    "n_iter = 5000\n",
    "\n",
    "# parameters\n",
    "l = 0.8 # lambda in [0,1]\n",
    "beta = 50\n",
    "\n",
    "# initialization\n",
    "N = 100\n",
    "n_selected = 0\n",
    "g = G1(N)\n",
    "g = G2(N)\n",
    "citiesX = g.x\n",
    "citiesV = g.v"
   ]
  },
  {
   "cell_type": "code",
   "execution_count": null,
   "metadata": {},
   "outputs": [],
   "source": [
    "best_sol, best_f = opt_solution(N, l, g, verbose=True)\n",
    "print(best_f)"
   ]
  },
  {
   "cell_type": "code",
   "execution_count": null,
   "metadata": {},
   "outputs": [],
   "source": [
    "initial_selection_probability=1/N"
   ]
  },
  {
   "cell_type": "code",
   "execution_count": null,
   "metadata": {},
   "outputs": [],
   "source": [
    "np.random.seed()\n",
    "selected_cities=(np.random.rand(N) <= initial_selection_probability).astype(np.int32)"
   ]
  },
  {
   "cell_type": "code",
   "execution_count": null,
   "metadata": {},
   "outputs": [],
   "source": [
    "f_st=np.zeros((5,n_iter))\n",
    "selected_st=np.zeros((5,N))\n",
    "fig=plt.plot\n",
    "for i in range (4):\n",
    "    selected_cities_n, selected_cities_n_convex, loss_values,loss_value_convex = optimize_with_initialize(g, l, selected_cities, beta=beta, \n",
    "                                              n_iter=n_iter,mutation_strategy=i, initial_selection_probability=initial_selection_probability,\n",
    "                                              precompute_pairwise_dist=False, verbose=True)\n",
    "    if type(selected_cities_n) == list:\n",
    "        selected_cities_n = selected_cities_n[-1]\n",
    "    loss_values[-1]=(loss_value_convex) \n",
    "    print(loss_value_convex)\n",
    "    f_st[i]=loss_values\n",
    "    plt.plot(f_st[i],label = \"mutation_strategy=\"+str(i))\n",
    "    selected_st[i]=selected_cities_n_convex\n",
    "    \n",
    "#combining 3 and 2    \n",
    "selected_cities_n, selected_cities_n_convex, loss_values1,loss_value_convex = optimize_with_initialize(g, l,selected_cities, beta=beta,  n_iter=n_iter,mutation_strategy=3, precompute_pairwise_dist=False, verbose=True)\n",
    "loss_values1[-1]=(loss_value_convex)  \n",
    "if type(selected_cities_n) == list:\n",
    "    selected_cities_n = selected_cities_n[-1]\n",
    "selected_cities_n, selected_cities_n_convex, loss_values,loss_value_convex = optimize_with_initialize(g, l, selected_cities_n_convex, beta=beta,n_iter=n_iter,mutation_strategy=2,precompute_pairwise_dist=False, verbose=True)\n",
    "if type(selected_cities_n) == list:\n",
    "    selected_cities_n = selected_cities_n[-1]\n",
    "loss_values[-1]=(loss_value_convex) \n",
    "total_loss=np.concatenate((loss_values1,loss_values))\n",
    "total_loss=total_loss[::2]\n",
    "f_st[4]=total_loss\n",
    "selected_st[4]=selected_cities_n_convex\n",
    "plt.plot(f_st[4],label = \"Combining\")\n",
    "\n",
    "plt.hlines(best_f, 0, n_iter, linestyles=\"--\", label=\"optimal solution\")\n",
    "\n",
    "plt.legend()\n",
    "print(np.amin(f_st,1))\n",
    "print(np.amin(f_st))\n",
    "best_min=np.amin(f_st)\n",
    "best=np.argmin(np.amin(f_st,1))\n",
    "print(\"The best cost is=%i, found for strategy %i\"%(best_min,best))\n",
    "\n",
    "plotResult(0,selected_st[best],None,f_st[best],None,None)\n"
   ]
  },
  {
   "cell_type": "markdown",
   "metadata": {},
   "source": [
    "## Play on beta (not finished)"
   ]
  },
  {
   "cell_type": "markdown",
   "metadata": {},
   "source": [
    "Find initial beta= hight T"
   ]
  },
  {
   "cell_type": "code",
   "execution_count": null,
   "metadata": {},
   "outputs": [],
   "source": [
    "#n_iter = 10000\n",
    "beta=0.001\n",
    "\n",
    "np.random.seed(52)\n",
    "start_time = time.time()\n",
    "selected_cities_n, selected_cities_n_convex, loss_values,loss_value_convex = optimize(g, l, beta=beta, \n",
    "                                          n_iter=n_iter,mutation_strategy=2, precompute_pairwise_dist=False, verbose=True)\n",
    "\n",
    "if type(selected_cities_n) == list:\n",
    "    selected_cities_n = selected_cities_n[-1]\n",
    "print('Final loss '+ str(loss_values[n_iter-1])) #be careful, at the end we want to return '-final loss'\n",
    "print('Final loss convex '+ str(loss_value_convex))\n",
    "plt.figure()\n",
    "plt.plot(np.arange(n_iter), loss_values);\n",
    "\n",
    "beta=1\n",
    "start_time = time.time()\n",
    "selected_cities_n, selected_cities_n_convex, loss_values,loss_value_convex = optimize_with_initialize(g, l, selected_cities_n_convex, beta=beta, \n",
    "                                          n_iter=n_iter,mutation_strategy=2,\n",
    "                                          precompute_pairwise_dist=False, verbose=True,)\n",
    "if type(selected_cities_n) == list:\n",
    "    selected_cities_n = selected_cities_n[-1]\n",
    "print('Final loss '+ str(loss_values[n_iter-1])) #be careful, at the end we want to return '-final loss'\n",
    "print('Final loss convex '+ str(loss_value_convex))\n",
    "plt.figure()\n",
    "plt.plot(np.arange(n_iter), loss_values);\n",
    "\n",
    "beta=10\n",
    "start_time = time.time()\n",
    "selected_cities_n, selected_cities_n_convex, loss_values,loss_value_convex = optimize_with_initialize(g, l, selected_cities_n_convex, beta=beta, \n",
    "                                          n_iter=n_iter,mutation_strategy=2,\n",
    "                                          precompute_pairwise_dist=False, verbose=True,)\n",
    "if type(selected_cities_n) == list:\n",
    "    selected_cities_n = selected_cities_n[-1]\n",
    "print('Final loss '+ str(loss_values[n_iter-1])) #be careful, at the end we want to return '-final loss'\n",
    "print('Final loss convex '+ str(loss_value_convex))\n",
    "plt.figure()\n",
    "plt.plot(np.arange(n_iter), loss_values);\n",
    "\n",
    "beta=100\n",
    "start_time = time.time()\n",
    "selected_cities_n, selected_cities_n_convex, loss_values,loss_value_convex = optimize_with_initialize(g, l, selected_cities_n_convex, beta=beta, \n",
    "                                          n_iter=n_iter,mutation_strategy=2,\n",
    "                                          precompute_pairwise_dist=False, verbose=True,)\n",
    "d2=(time.time() - start_time)\n",
    "print(\"d= %s seconds\" % d2)\n",
    "if type(selected_cities_n) == list:\n",
    "    selected_cities_n = selected_cities_n[-1]\n",
    "      \n",
    "    \n",
    "#print(selected_cities_n)\n",
    "print('Final loss '+ str(loss_values[n_iter-1])) #be careful, at the end we want to return '-final loss'\n",
    "print('Final loss convex '+ str(loss_value_convex))\n",
    "plt.figure()\n",
    "plt.plot(np.arange(n_iter), loss_values);\n",
    "\n",
    "plt.figure()\n",
    "m = selected_cities_n == 1\n",
    "mbis = (selected_cities_n_convex==1) & (selected_cities_n==0)\n",
    "mter = (selected_cities_n_convex==0) & (selected_cities_n==1)\n",
    "plt.scatter(g.x[:, 0], g.x[:, 1])\n",
    "plt.scatter(g.x[m, 0], g.x[m, 1], c='r')\n",
    "plt.scatter(g.x[mbis, 0], g.x[mbis, 1], c='g')\n",
    "plt.scatter(g.x[mter, 0], g.x[mter, 1], c='y')\n",
    "plt.xlim(0, 1)\n",
    "plt.ylim(0, 1)\n",
    "\n",
    "# loss_values[-1]=(loss_value_convex)\n",
    "# f_st.append(loss_values)\n",
    "# times_st.append(d)"
   ]
  },
  {
   "cell_type": "markdown",
   "metadata": {},
   "source": [
    "**Discussion:**\n",
    "* convergence in terms of beta ?\n",
    "* Choice of beta? Small then large, or use the optimal beta of the course (need precomputation?)\n",
    "* Run the simulation many times? Then pick the min? Or do simulated annealing (with different beta)\n",
    "\n",
    "**To be added:**\n",
    "* statistics and visualization (of the cities at their location, with a color corresponding to selected or not)\n"
   ]
  },
  {
   "cell_type": "code",
   "execution_count": null,
   "metadata": {},
   "outputs": [],
   "source": [
    "a = np.random.rand(10)\n",
    "idx = np.zeros_like(a)\n",
    "idx[1] =1\n",
    "idx[5] = 1\n",
    "\n",
    "\n"
   ]
  },
  {
   "cell_type": "code",
   "execution_count": null,
   "metadata": {},
   "outputs": [],
   "source": [
    "import scipy\n",
    "from optimization import *\n",
    "\n",
    "a = np.arange(16).reshape(4, 4)\n",
    "a = a.T @ a\n",
    "print(a)\n",
    "for i in range(4):\n",
    "    a[i, i] = 0\n",
    "scipy.spatial.distance.squareform(a)\n",
    "\n",
    "for i in range(6):\n",
    "    print(condensed_to_square(i, 4))\n",
    "\n"
   ]
  },
  {
   "cell_type": "code",
   "execution_count": null,
   "metadata": {},
   "outputs": [],
   "source": []
  }
 ],
 "metadata": {
  "colab": {
   "authorship_tag": "ABX9TyMHjD1LWevMEBRvKxj7qq4T",
   "collapsed_sections": [],
   "include_colab_link": true,
   "name": "model.ipynb",
   "provenance": []
  },
  "kernelspec": {
   "display_name": "Python 3",
   "language": "python",
   "name": "python3"
  },
  "language_info": {
   "codemirror_mode": {
    "name": "ipython",
    "version": 3
   },
   "file_extension": ".py",
   "mimetype": "text/x-python",
   "name": "python",
   "nbconvert_exporter": "python",
   "pygments_lexer": "ipython3",
   "version": "3.7.3"
  }
 },
 "nbformat": 4,
 "nbformat_minor": 4
}
