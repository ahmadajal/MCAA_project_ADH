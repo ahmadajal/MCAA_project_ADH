{
 "cells": [
  {
   "cell_type": "markdown",
   "metadata": {
    "colab_type": "text",
    "id": "view-in-github"
   },
   "source": [
    "<a href=\"https://colab.research.google.com/github/antoinexp/markov-chains-COM-516/blob/main/model.ipynb\" target=\"_parent\"><img src=\"https://colab.research.google.com/assets/colab-badge.svg\" alt=\"Open In Colab\"/></a>"
   ]
  },
  {
   "cell_type": "markdown",
   "metadata": {
    "id": "mCc-m9oEkOGy"
   },
   "source": [
    "This notebook is provided as a starting point to help you generate random instances G1 and G2 as mentioned in the handout.\n",
    "\n",
    "You are free to use and modify it at your own convenience.\n",
    "\n",
    "---\n",
    "\n"
   ]
  },
  {
   "cell_type": "code",
   "execution_count": 126,
   "metadata": {
    "id": "BMV_GyHTe-A5"
   },
   "outputs": [],
   "source": [
    "import scipy.stats as st\n",
    "import numpy as np\n",
    "import scipy as sp\n",
    "import matplotlib.pyplot as plt"
   ]
  },
  {
   "cell_type": "code",
   "execution_count": 127,
   "metadata": {
    "id": "9_4LNOEAfb6H"
   },
   "outputs": [],
   "source": [
    "class DatasetGenerator(object):\n",
    "  def __init__(self, N=100):\n",
    "    self.N = N\n",
    "    self.x = None\n",
    "    self.v = None\n",
    "    self.refresh()\n",
    "  \n",
    "  def refresh(self):\n",
    "    raise Exception(\"undefined\")"
   ]
  },
  {
   "cell_type": "code",
   "execution_count": 128,
   "metadata": {
    "id": "69EQnzkcgxtb"
   },
   "outputs": [],
   "source": [
    "class G1(DatasetGenerator):\n",
    "  def refresh(self):\n",
    "    self.x = st.uniform().rvs((self.N,2))\n",
    "    self.v = st.uniform().rvs((self.N,))"
   ]
  },
  {
   "cell_type": "code",
   "execution_count": 129,
   "metadata": {
    "id": "NEPDqCflgzWe"
   },
   "outputs": [],
   "source": [
    "class G2(DatasetGenerator):\n",
    "  def refresh(self):\n",
    "    self.x = st.uniform().rvs((self.N,2))\n",
    "    self.v = np.exp(st.norm(-0.85, 1.3).rvs((self.N,)))"
   ]
  },
  {
   "cell_type": "markdown",
   "metadata": {
    "id": "q_Kco86_fDPA"
   },
   "source": [
    "### Uniform distribution ($\\mathcal U([0,1])$)"
   ]
  },
  {
   "cell_type": "code",
   "execution_count": 130,
   "metadata": {
    "id": "gZmvCOWse-93"
   },
   "outputs": [],
   "source": [
    "g1 = G1()"
   ]
  },
  {
   "cell_type": "markdown",
   "metadata": {
    "id": "mQbhQdsEif96"
   },
   "source": [
    "Examples:"
   ]
  },
  {
   "cell_type": "code",
   "execution_count": 131,
   "metadata": {
    "colab": {
     "base_uri": "https://localhost:8080/",
     "height": 265
    },
    "id": "zXOZp0KUiO5P",
    "outputId": "6447f237-cd07-4c8f-84c8-a5af51e03698"
   },
   "outputs": [
    {
     "data": {
      "image/png": "[encoded data removed]",
      "text/plain": [
       "<Figure size 432x288 with 1 Axes>"
      ]
     },
     "metadata": {
      "needs_background": "light"
     },
     "output_type": "display_data"
    }
   ],
   "source": [
    "# Plot a histogram of the v array\n",
    "plt.hist(g1.v, bins=30)\n",
    "plt.show()"
   ]
  },
  {
   "cell_type": "code",
   "execution_count": 132,
   "metadata": {
    "colab": {
     "base_uri": "https://localhost:8080/",
     "height": 320
    },
    "id": "GMHuTtiIii5H",
    "outputId": "f5ff204f-7e45-4f3b-ed0c-5e18cb4a5e52"
   },
   "outputs": [
    {
     "data": {
      "image/png": "[encoded data removed]",
      "text/plain": [
       "<Figure size 360x360 with 1 Axes>"
      ]
     },
     "metadata": {
      "needs_background": "light"
     },
     "output_type": "display_data"
    }
   ],
   "source": [
    "# plot the position of the points\n",
    "plt.figure(figsize=(5,5))\n",
    "plt.scatter(g1.x[:,0], g1.x[:,1])\n",
    "plt.show()"
   ]
  },
  {
   "cell_type": "markdown",
   "metadata": {
    "id": "CCmeQMcZiuGX"
   },
   "source": [
    "You can refresh the dataset"
   ]
  },
  {
   "cell_type": "code",
   "execution_count": 133,
   "metadata": {
    "id": "X5zibI5Rix7r"
   },
   "outputs": [],
   "source": [
    "g1.refresh() # generate a new dataset"
   ]
  },
  {
   "cell_type": "code",
   "execution_count": 134,
   "metadata": {
    "colab": {
     "base_uri": "https://localhost:8080/",
     "height": 265
    },
    "id": "jwCwLEgEixrE",
    "outputId": "8b0be7af-9771-417c-d22f-9ae719404ee6"
   },
   "outputs": [
    {
     "data": {
      "image/png": "[encoded data removed]",
      "text/plain": [
       "<Figure size 432x288 with 1 Axes>"
      ]
     },
     "metadata": {
      "needs_background": "light"
     },
     "output_type": "display_data"
    }
   ],
   "source": [
    "plt.hist(g1.v, bins=30)\n",
    "plt.show()"
   ]
  },
  {
   "cell_type": "markdown",
   "metadata": {
    "id": "Ka6haqFplqaU"
   },
   "source": [
    "Or for instance, you can generate 10 instances and compute the average position of all the points:"
   ]
  },
  {
   "cell_type": "code",
   "execution_count": 135,
   "metadata": {
    "colab": {
     "base_uri": "https://localhost:8080/"
    },
    "id": "ZB9knwmOlvVP",
    "outputId": "28aecbc3-d2d8-4126-b104-6b12238d8974"
   },
   "outputs": [
    {
     "name": "stdout",
     "output_type": "stream",
     "text": [
      "[0.50520546 0.50520546]\n"
     ]
    }
   ],
   "source": [
    "m = np.array([0., 0.])\n",
    "\n",
    "for _ in range(10):\n",
    "  g1.refresh() # refresh the dataset\n",
    "  m  += 0.1*g1.x.mean()\n",
    "\n",
    "print(m)"
   ]
  },
  {
   "cell_type": "markdown",
   "metadata": {
    "id": "JgzoeYOafZSM"
   },
   "source": [
    "### Test on log-normal distribution"
   ]
  },
  {
   "cell_type": "code",
   "execution_count": 136,
   "metadata": {
    "id": "nszpfgZkfROG"
   },
   "outputs": [],
   "source": [
    "g2 = G2()"
   ]
  },
  {
   "cell_type": "markdown",
   "metadata": {
    "id": "k-CfVPQpjRu9"
   },
   "source": [
    "Example:\n",
    "\n",
    "you can use g2 to generate an instance of the lognormal distribution"
   ]
  },
  {
   "cell_type": "code",
   "execution_count": 137,
   "metadata": {
    "colab": {
     "base_uri": "https://localhost:8080/",
     "height": 265
    },
    "id": "brEhSUl2i6LC",
    "outputId": "43a129cd-78db-4bef-9980-21758dd8b9b8"
   },
   "outputs": [
    {
     "data": {
      "image/png": "[encoded data removed]",
      "text/plain": [
       "<Figure size 432x288 with 1 Axes>"
      ]
     },
     "metadata": {
      "needs_background": "light"
     },
     "output_type": "display_data"
    }
   ],
   "source": [
    "plt.hist(g2.v, bins=30)\n",
    "plt.show()"
   ]
  },
  {
   "cell_type": "code",
   "execution_count": 138,
   "metadata": {
    "id": "QQ5rVZDxjXKA"
   },
   "outputs": [],
   "source": [
    "g2.refresh() # to generate a new x and v"
   ]
  },
  {
   "cell_type": "code",
   "execution_count": 139,
   "metadata": {
    "colab": {
     "base_uri": "https://localhost:8080/",
     "height": 265
    },
    "id": "F44feKJokJS2",
    "outputId": "499c5cd5-d2cf-4871-f608-54212dbcb122"
   },
   "outputs": [
    {
     "data": {
      "image/png": "[encoded data removed]",
      "text/plain": [
       "<Figure size 432x288 with 1 Axes>"
      ]
     },
     "metadata": {
      "needs_background": "light"
     },
     "output_type": "display_data"
    }
   ],
   "source": [
    "plt.hist(g2.v, bins=30)\n",
    "plt.show()"
   ]
  },
  {
   "cell_type": "markdown",
   "metadata": {
    "id": "UrAwB81ykRCM"
   },
   "source": [
    "---"
   ]
  },
  {
   "cell_type": "markdown",
   "metadata": {
    "id": "GeH_E-MGjHvd"
   },
   "source": [
    "### Metropolis Hastings"
   ]
  },
  {
   "cell_type": "markdown",
   "metadata": {},
   "source": [
    "#### Useful functions"
   ]
  },
  {
   "cell_type": "code",
   "execution_count": 140,
   "metadata": {},
   "outputs": [],
   "source": [
    "# an optimal beta as said in the course, could be interesting to use it\n",
    "def computeBeta(N0,N1,f0,f1,epsilon):\n",
    "    beta=log(N1/(epsilon*N0))/(f1-f0)\n",
    "    return beta"
   ]
  },
  {
   "cell_type": "code",
   "execution_count": 141,
   "metadata": {},
   "outputs": [],
   "source": [
    "# mobility of the team=smallest circle enclosing all cities in S\n",
    "def maxArea(citiesX,selectedCities): #use of meshgrid could be better\n",
    "    n=citiesX.shape[0]\n",
    "    result=np.zeros((n,n))\n",
    "    for i in range (n):\n",
    "        for j in range (n):\n",
    "            if selectedCities[i]==1 and selectedCities[j]==1:\n",
    "                result[i,j]=(citiesX[i,0]-citiesX[j,0])*(citiesX[i,0]-citiesX[j,0])+(citiesX[i,1]-citiesX[j,1])*(citiesX[i,1]-citiesX[j,1])\n",
    "    maxR=np.amax(result)\n",
    "    #print('maxR'+str(maxR))\n",
    "    #print(np.pi*maxR/4)\n",
    "    return np.pi*maxR/4\n",
    "    "
   ]
  },
  {
   "cell_type": "code",
   "execution_count": 142,
   "metadata": {},
   "outputs": [],
   "source": [
    "def objectiveFunction(N,l,citiesV,selectedCities): #let's choose -F(lambda,S), so that we are minimizing and not maximizing\n",
    "    f=0\n",
    "    for i in range (N):\n",
    "        if selectedCities[i]:\n",
    "            f+=citiesV[i]\n",
    "    f=f-l*N*maxArea(citiesX,selectedCities)\n",
    "    return -f\n",
    "    "
   ]
  },
  {
   "cell_type": "code",
   "execution_count": 143,
   "metadata": {},
   "outputs": [],
   "source": [
    "def acceptancePb(selectedCities_i,selectedCities_j,beta,N,l,citiesV):\n",
    "    fi=objectiveFunction(N,l,citiesV,selectedCities_i)\n",
    "    fj=objectiveFunction(N,l,citiesV,selectedCities_j)\n",
    "    result=np.exp(-beta*(fj-fi))\n",
    "    return min(1,result)"
   ]
  },
  {
   "cell_type": "code",
   "execution_count": 144,
   "metadata": {},
   "outputs": [],
   "source": [
    "def pbij(selectedCities_i,selectedCities_j,beta,N,l,citiesV): # not used in the algorithm, could be useful to plot and compare statistics\n",
    "    if(selectedCities_i==selectedCities_j):\n",
    "        s=0\n",
    "        for k in range (N):\n",
    "            selectedCities_k=np.copy(selectedCities_i)\n",
    "            selectedCities_k[k]=1-selectedCities_i[k]\n",
    "            a_ik=acceptancePb(selectedCities_i,selectedCities_k,beta,n,l,citiesV)\n",
    "            phi_ik=(1/2)*(1/N)\n",
    "            s+=phi_ik*a_ik\n",
    "        return 1-s\n",
    "    else:\n",
    "        a_ij=acceptancePb(selectedCities_i,selectedCities_j,beta,n,l,citiesV)\n",
    "        phi_ij=(1/2)*(1/N) #pb of chosing a city*pb choosing if 0 or 1\n",
    "        return a_ij*phi_ij\n",
    "    "
   ]
  },
  {
   "cell_type": "code",
   "execution_count": 145,
   "metadata": {},
   "outputs": [],
   "source": [
    "def plotStatistics(): #useful to see the evolution of the number of cities selected and the f function\n",
    "    return"
   ]
  },
  {
   "cell_type": "markdown",
   "metadata": {},
   "source": [
    "#### The Algorithm"
   ]
  },
  {
   "cell_type": "code",
   "execution_count": 151,
   "metadata": {
    "id": "sbZXvBgti6_C"
   },
   "outputs": [],
   "source": [
    "#parameters\n",
    "l=0.3 #lambda in [0,1]\n",
    "beta=100\n",
    "\n",
    "#initialization\n",
    "N=100\n",
    "n_selected=0\n",
    "g=G1(N)\n",
    "citiesX=g.x\n",
    "citiesV=g.v\n",
    "\n",
    "#selectedCities=np.zeros(N,dtype=int) #table, 1 if city selected, 0 else"
   ]
  },
  {
   "cell_type": "markdown",
   "metadata": {},
   "source": [
    "**Algorithm:**\n",
    "1. Start from a random distribution\n",
    "2. Select a city uniformly at random\n",
    "3. choose if city had to be in the set, meaning selectedCities should be set to 0 or 1 (pb 1/2)\n",
    "4. Accept or not that choice for that city, using the acceptance pb\n",
    "5. Repeat (for a fixed number of times m)"
   ]
  },
  {
   "cell_type": "markdown",
   "metadata": {},
   "source": [
    "Here is step 2,3,4:"
   ]
  },
  {
   "cell_type": "code",
   "execution_count": 147,
   "metadata": {},
   "outputs": [],
   "source": [
    "# Step 2,3,4 \n",
    "def step(N,citiesX,citiesV,selectedCities_i,beta,l):\n",
    "    k=np.random.randint(0,N);\n",
    "    rdm=np.random.rand()\n",
    "    if rdm<0.5: #set 0, city not in set\n",
    "        if selectedCities_i[k]==0: #same state then before\n",
    "            return selectedCities_i #do nothing, it is accepted\n",
    "        else:\n",
    "            selectedCities_k=np.copy(selectedCities_i)\n",
    "            selectedCities_k[k]=0 #city removed from set\n",
    "            a_ik=acceptancePb(selectedCities_i,selectedCities_k,beta,N,l,citiesV) \n",
    "            rdm=np.random.rand()\n",
    "            if rdm<a_ik:\n",
    "                return selectedCities_k #accepted!\n",
    "            else:\n",
    "                return selectedCities_i #refused\n",
    "    else: #set 1, city in set\n",
    "        if selectedCities_i[k]==1: #do nothing, city already in set\n",
    "            return selectedCities_i\n",
    "        else:\n",
    "            selectedCities_k=np.copy(selectedCities_i)\n",
    "            selectedCities_k[k]=1 #add city to set\n",
    "            a_ik=acceptancePb(selectedCities_i,selectedCities_k,beta,N,l,citiesV) #could of course be computed in a smarter way\n",
    "            rdm=np.random.rand()\n",
    "            if rdm<a_ik:\n",
    "                return selectedCities_k #city added!\n",
    "            else:\n",
    "                return selectedCities_i #refused\n"
   ]
  },
  {
   "cell_type": "markdown",
   "metadata": {},
   "source": [
    "New run"
   ]
  },
  {
   "cell_type": "code",
   "execution_count": 152,
   "metadata": {},
   "outputs": [
    {
     "name": "stdout",
     "output_type": "stream",
     "text": [
      "[0 1 1 0 0 0 1 0 1 1 1 1 1 0 0 1 1 1 1 0 0 0 0 1 0 1 0 0 0 0 1 1 0 0 0 1 1\n",
      " 1 1 0 0 1 1 1 1 1 1 1 0 0 0 0 0 0 1 0 1 0 1 1 0 0 0 0 0 1 1 1 1 1 1 1 1 1\n",
      " 0 0 0 1 0 1 1 1 0 1 1 0 0 0 1 0 1 0 0 1 1 0 1 1 0 0]\n",
      "f1 9.649219550657243\n",
      "0\n",
      "100\n",
      "200\n",
      "300\n",
      "400\n",
      "500\n",
      "600\n",
      "700\n",
      "800\n",
      "900\n",
      "[1 1 1 1 1 0 1 1 1 1 1 1 1 1 1 1 1 1 0 1 1 1 1 1 1 1 1 1 1 1 1 1 1 1 1 1 1\n",
      " 1 1 1 1 1 1 1 1 1 1 1 1 1 1 1 1 1 1 1 1 1 1 0 0 1 1 1 1 1 1 1 1 1 1 1 1 1\n",
      " 1 1 1 1 1 1 1 1 1 1 1 1 1 1 1 1 1 1 1 1 1 1 1 1 1 1]\n",
      "fM -21.803895185685825\n"
     ]
    }
   ],
   "source": [
    "M=1000 #number of iterations\n",
    "\n",
    "selectedCities_0=np.random.randint(2, size=(N)) #initial state\n",
    "\n",
    "fs=np.zeros(M) #keep record of objective function (in fact, minus objective function)\n",
    "fs[0]=objectiveFunction(N,l,citiesV,selectedCities_0)\n",
    "\n",
    "print(selectedCities_0)\n",
    "print('f1 '+ str(fs[0]))\n",
    "\n",
    "selectedCities_n=np.copy(selectedCities_0)\n",
    "\n",
    "for m in range (M):\n",
    "    if(m%(M//10)==0):\n",
    "        print(m)\n",
    "#         fs[m//10]=objectiveFunction(N,l,citiesV,selectedCities_0) #could be useful if too many M\n",
    "    fs[m]=objectiveFunction(N,l,citiesV,selectedCities_n)\n",
    "    selectedCities_n=step(N,citiesX,citiesV,selectedCities_n,beta,l)\n",
    "    \n",
    "print (selectedCities_n)\n",
    "print('fM '+ str(fs[M-1]))"
   ]
  },
  {
   "cell_type": "code",
   "execution_count": 153,
   "metadata": {},
   "outputs": [
    {
     "data": {
      "text/plain": [
       "[<matplotlib.lines.Line2D at 0x7f7f94b60860>]"
      ]
     },
     "execution_count": 153,
     "metadata": {},
     "output_type": "execute_result"
    },
    {
     "data": {
      "image/png": "[encoded data removed]",
      "text/plain": [
       "<Figure size 432x288 with 1 Axes>"
      ]
     },
     "metadata": {
      "needs_background": "light"
     },
     "output_type": "display_data"
    }
   ],
   "source": [
    "m=np.arange(M)\n",
    "plt.plot(m,fs)"
   ]
  },
  {
   "cell_type": "markdown",
   "metadata": {},
   "source": [
    "**Discussion:**\n",
    "* convergence in terms of beta ?\n",
    "* Choice of beta? Small then large, or use the optimal beta of the course (need precomputation?)\n",
    "* Run the simulation many times? Then pick the min? Or do simulated annealing (with different beta)\n",
    "\n",
    "**To be added:**\n",
    "* statistics and visualization\n"
   ]
  }
 ],
 "metadata": {
  "colab": {
   "authorship_tag": "ABX9TyMHjD1LWevMEBRvKxj7qq4T",
   "collapsed_sections": [],
   "include_colab_link": true,
   "name": "model.ipynb",
   "provenance": []
  },
  "kernelspec": {
   "display_name": "Python 3",
   "language": "python",
   "name": "python3"
  },
  "language_info": {
   "codemirror_mode": {
    "name": "ipython",
    "version": 3
   },
   "file_extension": ".py",
   "mimetype": "text/x-python",
   "name": "python",
   "nbconvert_exporter": "python",
   "pygments_lexer": "ipython3",
   "version": "3.6.9"
  }
 },
 "nbformat": 4,
 "nbformat_minor": 4
}
