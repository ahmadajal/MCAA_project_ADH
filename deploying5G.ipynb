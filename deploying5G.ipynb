{
 "cells": [
  {
   "cell_type": "code",
   "execution_count": null,
   "metadata": {},
   "outputs": [],
   "source": [
    "# This reloads python code imported from *.py files automatically\n",
    "%reload_ext autoreload\n",
    "%autoreload 2"
   ]
  },
  {
   "cell_type": "code",
   "execution_count": null,
   "metadata": {
    "id": "BMV_GyHTe-A5"
   },
   "outputs": [],
   "source": [
    "import numpy as np\n",
    "import matplotlib.pyplot as plt\n",
    "\n",
    "import tqdm \n",
    "import tqdm.notebook\n",
    "\n",
    "from optimization import *\n",
    "\n",
    "import time\n",
    "# optimal solution\n",
    "from optimal_solution import *"
   ]
  },
  {
   "cell_type": "code",
   "execution_count": null,
   "metadata": {
    "id": "9_4LNOEAfb6H"
   },
   "outputs": [],
   "source": [
    "from scipy.cluster.vq import kmeans,vq,whiten\n",
    "import itertools"
   ]
  },
  {
   "cell_type": "code",
   "execution_count": null,
   "metadata": {
    "id": "69EQnzkcgxtb"
   },
   "outputs": [],
   "source": [
    "# Uniform distribution\n",
    "\n",
    "g1 = G1(10000)\n",
    "# Plot a histogram of the v array\n",
    "plt.hist(g1.v, bins=30)\n",
    "plt.show()\n",
    "\n",
    "# plot the position of the points\n",
    "plt.figure(figsize=(5,5))\n",
    "plt.scatter(g1.x[:,0], g1.x[:,1])\n",
    "plt.show()\n",
    "\n",
    "g1.refresh() # generate a new dataset\n",
    "plt.hist(g1.v, bins=30)\n",
    "plt.show()\n",
    "\n",
    "m = np.array([0., 0.])\n",
    "\n",
    "for _ in range(10):\n",
    "  g1.refresh() # refresh the dataset\n",
    "  m  += 0.1*g1.x.mean()\n",
    "\n",
    "print(m)\n",
    "\n",
    "# Log normal distribution\n",
    "g2 = G2(10000)\n",
    "plt.hist(g2.v, bins=30)\n",
    "plt.show()\n",
    "g2.refresh()\n",
    "plt.hist(g2.v, bins=30)\n",
    "plt.show()"
   ]
  },
  {
   "cell_type": "markdown",
   "metadata": {
    "id": "UrAwB81ykRCM"
   },
   "source": [
    "---"
   ]
  },
  {
   "cell_type": "code",
   "execution_count": null,
   "metadata": {},
   "outputs": [],
   "source": [
    "np.random.seed(42)\n",
    "#n_iter = 20000\n",
    "n_iter = 5000\n",
    "\n",
    "# parametersc\n",
    "l = 0.8 # lambda in [0,1]\n",
    "#l = 0.2 # lambda in [0,1]\n",
    "beta = 25\n",
    "#beta = 0.7\n",
    "beta=100\n",
    "\n",
    "# initialization\n",
    "N = 1000\n",
    "n_selected = 0\n",
    "g = G1(N)\n",
    "g = G2(N)\n",
    "citiesX = g.x\n",
    "citiesV = g.v\n",
    "\n",
    "#other options\n",
    "initial_selection_probability=0.2\n",
    "#initial_selection_probability=1/N\n"
   ]
  },
  {
   "cell_type": "markdown",
   "metadata": {},
   "source": [
    "## Optimizations with different stategies"
   ]
  },
  {
   "cell_type": "code",
   "execution_count": null,
   "metadata": {},
   "outputs": [],
   "source": [
    "def plotResult(duration,selected_cities_n,selected_cities_n_convex,loss_values,loss_value_convex,num_cities_per_step):\n",
    "    print(\"d= %s seconds\" % duration)\n",
    "    if loss_value_convex is not None:\n",
    "        print('Final loss '+ str(loss_values[-2])) #be careful, at the end we want to return '-final loss'\n",
    "        print('Final loss with Convex Hull '+ str(loss_value_convex))\n",
    "    else:\n",
    "        print('Final loss '+ str(loss_values[-1]))\n",
    "    #print(selected_cities_n)\n",
    "\n",
    "    fig,axes=plt.subplots(1,2,figsize=(12,4))\n",
    "    #fig.suptitle('Results')\n",
    "    axes[0].plot(loss_values)\n",
    "    axes[0].set_ylabel('Loss')\n",
    "    axes[0].set_xlabel('Iterations')\n",
    "    axes[0].set_title('Loss Evolution')\n",
    "    m = selected_cities_n == 1\n",
    "    axes[1].scatter(g.x[:, 0], g.x[:, 1],label='Non selected Cities')\n",
    "    axes[1].scatter(g.x[m, 0], g.x[m, 1], c='r',label='Selected cities')\n",
    "    if selected_cities_n_convex is not None:\n",
    "        mbis = (selected_cities_n_convex==1) & (selected_cities_n==0)\n",
    "        mter = (selected_cities_n_convex==0) & (selected_cities_n==1)\n",
    "        axes[1].scatter(g.x[mbis, 0], g.x[mbis, 1], c='g',label='Added cities (Convex Hull)')\n",
    "        axes[1].scatter(g.x[mter, 0], g.x[mter, 1], c='y',label='Selected Cities not in Convex Hull')\n",
    "    axes[1].set_title('Selected cities')\n",
    "    box = axes[1].get_position()\n",
    "    axes[1].set_position([box.x0, box.y0, box.width * 0.8, box.height])\n",
    "    # Put a legend to the right of the current axis\n",
    "    axes[1].legend(loc='center left', bbox_to_anchor=(1, 0.5))\n",
    "        \n",
    "    plt.xlim(0, 1)\n",
    "    plt.ylim(0, 1)\n",
    "    \n",
    "    if num_cities_per_step is not None:\n",
    "        plt.figure(figsize=(4,2))\n",
    "        plt.plot(np.arange(n_iter), num_cities_per_step)\n",
    "        plt.title(\"#selected cities in each step\")"
   ]
  },
  {
   "cell_type": "markdown",
   "metadata": {},
   "source": [
    "#### Optimization with mutation strategy 0"
   ]
  },
  {
   "cell_type": "code",
   "execution_count": null,
   "metadata": {},
   "outputs": [],
   "source": [
    "# Run the optimization to compute the selected cities\n",
    "np.random.seed(52)\n",
    "start_time = time.time()\n",
    "selected_cities_n, selected_cities_n_convex, loss_values,loss_value_convex = optimize(g, l, beta=beta, n_iter=n_iter,mutation_strategy=0, initial_selection_probability=initial_selection_probability,precompute_pairwise_dist=False, verbose=True)\n",
    "d=(time.time() - start_time)\n",
    "num_cities_per_step = np.array(selected_cities_n).sum(axis=1)\n",
    "if type(selected_cities_n) == list:\n",
    "    selected_cities_n = selected_cities_n[-1]\n",
    "    \n",
    "loss_values[-1]=(loss_value_convex) \n",
    "plotResult(d,selected_cities_n,selected_cities_n_convex,loss_values,loss_value_convex,num_cities_per_step)\n",
    "\n",
    "# f_st.append(loss_values)\n",
    "# times_st.append(d)\n"
   ]
  },
  {
   "cell_type": "markdown",
   "metadata": {},
   "source": [
    "#### Optimization with mutation strategy 2 = Flipping strategy"
   ]
  },
  {
   "cell_type": "code",
   "execution_count": null,
   "metadata": {},
   "outputs": [],
   "source": [
    "np.random.seed(52)\n",
    "start_time = time.time()\n",
    "selected_cities_n, selected_cities_n_convex, loss_values,loss_value_convex = optimize(g, l, beta=beta, \n",
    "                                          n_iter=n_iter,mutation_strategy=2,initial_selection_probability=initial_selection_probability,\n",
    "                                          precompute_pairwise_dist=False, verbose=True)\n",
    "d=(time.time() - start_time)\n",
    "if type(selected_cities_n) == list:\n",
    "    selected_cities_n = selected_cities_n[-1]\n",
    "    \n",
    "loss_values[-1]=(loss_value_convex)   \n",
    "plotResult(d,selected_cities_n,selected_cities_n_convex,loss_values,loss_value_convex,None)  \n",
    "    \n",
    "# f_st.append(loss_values)\n",
    "# times_st.append(d)"
   ]
  },
  {
   "cell_type": "markdown",
   "metadata": {},
   "source": [
    "#### Optimization with mutation strategy 3 = Convex Hull function"
   ]
  },
  {
   "cell_type": "code",
   "execution_count": null,
   "metadata": {},
   "outputs": [],
   "source": [
    "np.random.seed(52)\n",
    "start_time = time.time()\n",
    "selected_cities_n, selected_cities_n_convex, loss_values,loss_value_convex = optimize(g, l, beta=beta, \n",
    "                                          n_iter=n_iter,mutation_strategy=3,initial_selection_probability=initial_selection_probability,\n",
    "                                          precompute_pairwise_dist=False, verbose=True)\n",
    "d=(time.time() - start_time)\n",
    "if type(selected_cities_n) == list:\n",
    "    selected_cities_n = selected_cities_n[-1]\n",
    "\n",
    "loss_values[-1]=(loss_value_convex)   \n",
    "plotResult(d,selected_cities_n,selected_cities_n_convex,loss_values,loss_value_convex,None)  \n",
    "\n",
    "# f_st.append(loss_values)\n",
    "# times_st.append(d)"
   ]
  },
  {
   "cell_type": "markdown",
   "metadata": {},
   "source": [
    "### Combination 3 and 2"
   ]
  },
  {
   "cell_type": "code",
   "execution_count": null,
   "metadata": {},
   "outputs": [],
   "source": [
    "# First run\n",
    "start_time = time.time()\n",
    "selected_cities_n, selected_cities_n_convex, loss_values1,loss_value_convex = optimize(g, l, beta=beta, \n",
    "                                          n_iter=n_iter,mutation_strategy=3,\n",
    "                                          precompute_pairwise_dist=False, verbose=True)\n",
    "d1=(time.time() - start_time)\n",
    "loss_values1[-1]=(loss_value_convex)  \n",
    "if type(selected_cities_n) == list:\n",
    "    selected_cities_n = selected_cities_n[-1]\n",
    "\n",
    "# Second run  \n",
    "start_time = time.time()\n",
    "selected_cities_n, selected_cities_n_convex, loss_values,loss_value_convex = optimize_with_initialize(g, l, selected_cities_n_convex, beta=beta, \n",
    "                                          n_iter=n_iter,mutation_strategy=2,\n",
    "                                          precompute_pairwise_dist=False, verbose=True)\n",
    "d2=(time.time() - start_time)\n",
    "if type(selected_cities_n) == list:\n",
    "    selected_cities_n = selected_cities_n[-1]\n",
    "loss_values[-1]=(loss_value_convex) \n",
    "\n",
    "total_loss=np.concatenate((loss_values1,loss_values))\n",
    "total_loss=total_loss[::2]\n",
    "plotResult(d1+d2,selected_cities_n,selected_cities_n_convex,total_loss,loss_value_convex,None)  \n",
    "\n",
    "# f_st.append(loss_values)\n",
    "# times_st.append(d)"
   ]
  },
  {
   "cell_type": "markdown",
   "metadata": {},
   "source": [
    "#### Optimization with old code (for time comparison)"
   ]
  },
  {
   "cell_type": "code",
   "execution_count": null,
   "metadata": {},
   "outputs": [],
   "source": [
    "# # Run for comparison\n",
    "# np.random.seed(52)\n",
    "# start_time = time.time()\n",
    "# selected_cities_n, loss_values = optimize_old(g, l, beta=beta, n_iter=n_iter,precompute_pairwise_dist=False, verbose=True)\n",
    "# d=(time.time() - start_time)\n",
    "# print(\"d= %s seconds\" % d)\n",
    "# if type(selected_cities_n) == list:\n",
    "#     selected_cities_n = selected_cities_n[-1]\n",
    "# print(selected_cities_n)\n",
    "# print('Final loss '+ str(loss_values[n_iter-1]))\n",
    "# plt.figure()\n",
    "# plt.plot(np.arange(n_iter), loss_values);\n",
    "\n",
    "# plt.figure()\n",
    "# m = selected_cities_n == 1\n",
    "# plt.scatter(g.x[:, 0], g.x[:, 1])\n",
    "# plt.scatter(g.x[m, 0], g.x[m, 1], c='r')\n",
    "# plt.xlim(0, 1)\n",
    "# plt.ylim(0, 1)\n",
    "\n",
    "# f_st.append(loss_values)\n",
    "# times_st.append(d)"
   ]
  },
  {
   "cell_type": "markdown",
   "metadata": {},
   "source": [
    "## Plot Comparisons"
   ]
  },
  {
   "cell_type": "code",
   "execution_count": null,
   "metadata": {},
   "outputs": [],
   "source": [
    "n_iter = 5000\n",
    "\n",
    "# parameters\n",
    "l = 0.8 # lambda in [0,1], or in [0,2] for G2\n",
    "beta = 3\n",
    "\n",
    "# initialization\n",
    "N = 100\n",
    "n_selected = 0\n",
    "g = G1(N)\n",
    "g = G2(N)\n",
    "citiesX = g.x\n",
    "citiesV = g.v"
   ]
  },
  {
   "cell_type": "code",
   "execution_count": null,
   "metadata": {},
   "outputs": [],
   "source": [
    "t0 = time.time()\n",
    "from optimal_solution import opt_solution_kdtree, opt_solution_circle\n",
    "\n",
    "# best_sol, best_f = opt_solution(N, l, g, verbose=True)\n",
    "best_sol, best_f = opt_solution_circle(N, l, g, verbose=True)\n",
    "t1 = time.time()\n",
    "print(f\"Best solution: {best_f}\")    \n",
    "plotResult(t1 - t0, best_sol, None, np.zeros(n_iter) + best_f, None, None)      "
   ]
  },
  {
   "cell_type": "code",
   "execution_count": null,
   "metadata": {},
   "outputs": [],
   "source": [
    "initial_selection_probability=1/N\n",
    "initial_selection_probability=0\n"
   ]
  },
  {
   "cell_type": "code",
   "execution_count": null,
   "metadata": {},
   "outputs": [],
   "source": [
    "np.random.seed()\n",
    "selected_cities=(np.random.rand(N) <= initial_selection_probability).astype(np.int32)\n",
    "print(selected_cities)"
   ]
  },
  {
   "cell_type": "code",
   "execution_count": null,
   "metadata": {},
   "outputs": [],
   "source": [
    "n_techniques = 6\n",
    "f_st=np.zeros((n_techniques,n_iter))\n",
    "selected_st=np.zeros((n_techniques,N))\n",
    "fig=plt.plot\n",
    "for i in range(n_techniques):\n",
    "    selected_cities_n, selected_cities_n_convex, loss_values,loss_value_convex = optimize_with_initialize(g, l, selected_cities, beta=beta, \n",
    "                                              n_iter=n_iter,mutation_strategy=i, initial_selection_probability=initial_selection_probability,\n",
    "                                              precompute_pairwise_dist=False, verbose=True)\n",
    "    \n",
    "    print('\\n loss_value_convex '+str(loss_value_convex))\n",
    "    f = objective_function_simple(N, l, g, selected_cities_n_convex,\n",
    "                          pairwise_distances=None)\n",
    "    print(f)\n",
    "    loss_value_convex = f\n",
    "    if type(selected_cities_n) == list:\n",
    "        selected_cities_n = selected_cities_n[-1]\n",
    "    loss_values[-1]=(loss_value_convex) \n",
    "    print(loss_value_convex)\n",
    "    f_st[i]=loss_values\n",
    "    plt.plot(f_st[i],label = \"mutation_strategy=\"+str(i))\n",
    "    selected_st[i]=selected_cities_n_convex\n",
    "    \n",
    "#combining 3 and 2    \n",
    "selected_cities_n, selected_cities_n_convex, loss_values1,loss_value_convex = optimize_with_initialize(g, l,selected_cities, beta=beta,  n_iter=n_iter,mutation_strategy=3, precompute_pairwise_dist=False, verbose=True)\n",
    "loss_values1[-1]=(loss_value_convex)  \n",
    "if type(selected_cities_n) == list:\n",
    "    selected_cities_n = selected_cities_n[-1]\n",
    "selected_cities_n, selected_cities_n_convex, loss_values,loss_value_convex = optimize_with_initialize(g, l, selected_cities_n_convex, beta=beta,n_iter=n_iter,mutation_strategy=2,precompute_pairwise_dist=False, verbose=True)\n",
    "if type(selected_cities_n) == list:\n",
    "    selected_cities_n = selected_cities_n[-1]\n",
    "loss_values[-1]=(loss_value_convex) \n",
    "total_loss=np.concatenate((loss_values1,loss_values))\n",
    "total_loss=total_loss[::2]\n",
    "f_st[4]=total_loss\n",
    "selected_st[4]=selected_cities_n_convex\n",
    "plt.plot(f_st[4],label = \"Combining\")\n",
    "\n",
    "plt.hlines(best_f, 0, n_iter, linestyles=\"--\", label=\"optimal solution\")\n",
    "\n",
    "plt.legend()\n",
    "print(np.amin(f_st,1))\n",
    "print(np.amin(f_st))\n",
    "best_min=np.amin(f_st)\n",
    "best=np.argmin(np.amin(f_st,1))\n",
    "print(\"The best cost is=%i, found for strategy %i\"%(best_min,best))\n",
    "print(f'Bruteforce best solution {best_f}')\n",
    "\n",
    "plotResult(0,selected_st[best],None,f_st[best],None,None)\n"
   ]
  },
  {
   "cell_type": "code",
   "execution_count": null,
   "metadata": {},
   "outputs": [],
   "source": []
  },
  {
   "cell_type": "markdown",
   "metadata": {},
   "source": [
    "## Play on beta"
   ]
  },
  {
   "cell_type": "markdown",
   "metadata": {},
   "source": [
    "Find initial beta= hight T"
   ]
  },
  {
   "cell_type": "code",
   "execution_count": null,
   "metadata": {},
   "outputs": [],
   "source": [
    "#n_iter = 10000\n",
    "beta=0.001\n",
    "\n",
    "np.random.seed(52)\n",
    "start_time = time.time()\n",
    "selected_cities_n, selected_cities_n_convex, loss_values,loss_value_convex = optimize(g, l, beta=beta, \n",
    "                                          n_iter=n_iter,mutation_strategy=2, precompute_pairwise_dist=False, verbose=True)\n",
    "\n",
    "if type(selected_cities_n) == list:\n",
    "    selected_cities_n = selected_cities_n[-1]\n",
    "print('Final loss '+ str(loss_values[n_iter-1])) #be careful, at the end we want to return '-final loss'\n",
    "print('Final loss convex '+ str(loss_value_convex))\n",
    "plt.figure()\n",
    "plt.plot(np.arange(n_iter), loss_values);\n",
    "\n",
    "beta=1\n",
    "start_time = time.time()\n",
    "selected_cities_n, selected_cities_n_convex, loss_values,loss_value_convex = optimize_with_initialize(g, l, selected_cities_n_convex, beta=beta, \n",
    "                                          n_iter=n_iter,mutation_strategy=2,\n",
    "                                          precompute_pairwise_dist=False, verbose=True,)\n",
    "if type(selected_cities_n) == list:\n",
    "    selected_cities_n = selected_cities_n[-1]\n",
    "print('Final loss '+ str(loss_values[n_iter-1])) #be careful, at the end we want to return '-final loss'\n",
    "print('Final loss convex '+ str(loss_value_convex))\n",
    "plt.figure()\n",
    "plt.plot(np.arange(n_iter), loss_values);\n",
    "\n",
    "beta=10\n",
    "start_time = time.time()\n",
    "selected_cities_n, selected_cities_n_convex, loss_values,loss_value_convex = optimize_with_initialize(g, l, selected_cities_n_convex, beta=beta, \n",
    "                                          n_iter=n_iter,mutation_strategy=2,\n",
    "                                          precompute_pairwise_dist=False, verbose=True,)\n",
    "if type(selected_cities_n) == list:\n",
    "    selected_cities_n = selected_cities_n[-1]\n",
    "print('Final loss '+ str(loss_values[n_iter-1])) #be careful, at the end we want to return '-final loss'\n",
    "print('Final loss convex '+ str(loss_value_convex))\n",
    "plt.figure()\n",
    "plt.plot(np.arange(n_iter), loss_values);\n",
    "\n",
    "beta=100\n",
    "start_time = time.time()\n",
    "selected_cities_n, selected_cities_n_convex, loss_values,loss_value_convex = optimize_with_initialize(g, l, selected_cities_n_convex, beta=beta, \n",
    "                                          n_iter=n_iter,mutation_strategy=2,\n",
    "                                          precompute_pairwise_dist=False, verbose=True,)\n",
    "d2=(time.time() - start_time)\n",
    "print(\"d= %s seconds\" % d2)\n",
    "if type(selected_cities_n) == list:\n",
    "    selected_cities_n = selected_cities_n[-1]\n",
    "      \n",
    "    \n",
    "#print(selected_cities_n)\n",
    "print('Final loss '+ str(loss_values[n_iter-1])) #be careful, at the end we want to return '-final loss'\n",
    "print('Final loss convex '+ str(loss_value_convex))\n",
    "plt.figure()\n",
    "plt.plot(np.arange(n_iter), loss_values);\n",
    "\n",
    "plt.figure()\n",
    "m = selected_cities_n == 1\n",
    "mbis = (selected_cities_n_convex==1) & (selected_cities_n==0)\n",
    "mter = (selected_cities_n_convex==0) & (selected_cities_n==1)\n",
    "plt.scatter(g.x[:, 0], g.x[:, 1])\n",
    "plt.scatter(g.x[m, 0], g.x[m, 1], c='r')\n",
    "plt.scatter(g.x[mbis, 0], g.x[mbis, 1], c='g')\n",
    "plt.scatter(g.x[mter, 0], g.x[mter, 1], c='y')\n",
    "plt.xlim(0, 1)\n",
    "plt.ylim(0, 1)\n",
    "\n",
    "# loss_values[-1]=(loss_value_convex)\n",
    "# f_st.append(loss_values)\n",
    "# times_st.append(d)"
   ]
  },
  {
   "cell_type": "code",
   "execution_count": null,
   "metadata": {},
   "outputs": [],
   "source": [
    "a = np.random.rand(10)\n",
    "idx = np.zeros_like(a)\n",
    "idx[1] =1\n",
    "idx[5] = 1\n",
    "\n",
    "\n"
   ]
  },
  {
   "cell_type": "code",
   "execution_count": null,
   "metadata": {},
   "outputs": [],
   "source": [
    "import scipy\n",
    "from optimization import *\n",
    "\n",
    "a = np.arange(16).reshape(4, 4)\n",
    "a = a.T @ a\n",
    "print(a)\n",
    "for i in range(4):\n",
    "    a[i, i] = 0\n",
    "scipy.spatial.distance.squareform(a)\n",
    "\n",
    "for i in range(6):\n",
    "    print(condensed_to_square(i, 4))\n",
    "\n"
   ]
  },
  {
   "cell_type": "markdown",
   "metadata": {},
   "source": [
    "### Clustering tests"
   ]
  },
  {
   "cell_type": "code",
   "execution_count": null,
   "metadata": {},
   "outputs": [],
   "source": [
    "n_iter = 5000\n",
    "\n",
    "# parameters\n",
    "l = 0.5 # lambda in [0,1], or in [0,2] for G2\n",
    "beta = 50\n",
    "\n",
    "# initialization\n",
    "N = 10\n",
    "n_selected = 0\n",
    "g = G1(N)\n",
    "g = G2(N)\n",
    "citiesX = g.x\n",
    "citiesV = g.v"
   ]
  },
  {
   "cell_type": "markdown",
   "metadata": {},
   "source": [
    "#### Simple clusters"
   ]
  },
  {
   "cell_type": "markdown",
   "metadata": {},
   "source": [
    "* Automatic selection of centroids"
   ]
  },
  {
   "cell_type": "code",
   "execution_count": null,
   "metadata": {},
   "outputs": [],
   "source": [
    "start_time = time.time()\n",
    "data = whiten(g.x)\n",
    "centroids,_ = kmeans(data,10)\n",
    "clx,_ = vq(data,centroids)\n",
    "centroids_V=[np.sum(g.v, where=(clx == k)) for k in range (centroids.shape[0])]\n",
    "d1=(time.time() - start_time)\n",
    "\n",
    "fig,axes=plt.subplots(1,2,figsize=(12,4))\n",
    "axes[0].scatter(data[:,0],data[:,1],c=clx ,label='cities')\n",
    "sequence = np.arange(centroids.shape[0])\n",
    "axes[1].scatter(centroids[:, 0], centroids[:, 1], c=sequence,label='centroids')\n",
    "print(np.sum(g.v))\n",
    "print(np.sum(centroids_V))\n",
    "print(d1)"
   ]
  },
  {
   "cell_type": "markdown",
   "metadata": {},
   "source": [
    "* with defined centroids: population is involved"
   ]
  },
  {
   "cell_type": "code",
   "execution_count": null,
   "metadata": {},
   "outputs": [],
   "source": [
    "start_time = time.time()\n",
    "ind = np.argpartition(g.v, -5)[-5:]\n",
    "data = whiten(g.x)\n",
    "centroids=(data[ind])\n",
    "ind=np.sort(ind)\n",
    "print(g.v)\n",
    "print(ind)\n",
    "print(g.v[ind])\n",
    "clx,_ = vq(data,centroids)\n",
    "centroids_V=[np.sum(g.v, where=(clx == k)) for k in range (centroids.shape[0])]\n",
    "d1=(time.time() - start_time)\n",
    "\n",
    "fig,axes=plt.subplots(1,2,figsize=(12,4))\n",
    "axes[0].scatter(data[:,0],data[:,1],c=clx ,label='cities')\n",
    "sequence = np.arange(centroids.shape[0])\n",
    "axes[1].scatter(centroids[:, 0], centroids[:, 1], c=sequence,label='centroids')\n",
    "print(np.sum(g.v))\n",
    "print(np.sum(centroids_V))\n",
    "\n",
    "print(d1)"
   ]
  },
  {
   "cell_type": "markdown",
   "metadata": {},
   "source": [
    "### Study case 10 cities"
   ]
  },
  {
   "cell_type": "code",
   "execution_count": null,
   "metadata": {},
   "outputs": [],
   "source": [
    "n_iter = 5000\n",
    "# parameters\n",
    "l = 0.5 # lambda in [0,1], or in [0,2] for G2\n",
    "beta = 20\n",
    "# initialization\n",
    "N = 10\n",
    "n_selected = 0\n",
    "g = G1(N)\n",
    "# g = G2(N)\n",
    "\n",
    "result=bruteforce_sol(N, l, g)\n",
    "print(result)\n",
    "best_selected_cities=np.array(result[0])\n",
    "brute_force_f, max_dist, max_idx, convex_hull = objective_function_(N, l, g, None, best_selected_cities, None, None)\n",
    "print(brute_force_f)\n",
    "print(result[1])\n",
    "brute_force_f=result[1]\n",
    "plotResult(0,best_selected_cities,None,np.zeros(n_iter) +brute_force_f,None,None)"
   ]
  },
  {
   "cell_type": "code",
   "execution_count": null,
   "metadata": {},
   "outputs": [],
   "source": [
    "best_sol, best_f = opt_solution_circle(N, l, g, verbose=True)\n",
    "print(f\"Best solution: {best_f}\")    \n",
    "plotResult(t1 - t0, best_sol, None, np.zeros(n_iter) + best_f, None, None)  "
   ]
  },
  {
   "cell_type": "code",
   "execution_count": null,
   "metadata": {},
   "outputs": [],
   "source": [
    "initial_selection_probability=1/N"
   ]
  },
  {
   "cell_type": "code",
   "execution_count": null,
   "metadata": {},
   "outputs": [],
   "source": [
    "np.random.seed()\n",
    "selected_cities=(np.random.rand(N) <= initial_selection_probability).astype(np.int32)\n",
    "# selected_cities=np.zeros(N)\n",
    "print(selected_cities)\n",
    "\n",
    "f_st=np.zeros((5,n_iter))\n",
    "selected_st=np.zeros((5,N))\n",
    "fig=plt.plot\n",
    "for i in range(4):\n",
    "    selected_cities_n, selected_cities_n_convex, loss_values,loss_value_convex = optimize_with_initialize_betas(g, l, selected_cities, betas=[5,10,20,50,100], \n",
    "                                              n_iter=n_iter,mutation_strategy=i, initial_selection_probability=initial_selection_probability,\n",
    "                                              precompute_pairwise_dist=False, verbose=False)\n",
    "    \n",
    "    f = objective_function_simple(N, l, g, selected_cities_n_convex,\n",
    "                          pairwise_distances=None)\n",
    "    loss_value_convex = f\n",
    "    if type(selected_cities_n) == list:\n",
    "        selected_cities_n = selected_cities_n[-1]\n",
    "    loss_values[-1]=(loss_value_convex) \n",
    "#     print(loss_value_convex)\n",
    "    f_st[i]=loss_values\n",
    "    plt.plot(f_st[i],label = \"mutation_strategy=\"+str(i))\n",
    "    selected_st[i]=selected_cities_n_convex\n",
    "    \n",
    "#combining 3 and 2    \n",
    "selected_cities_n, selected_cities_n_convex, loss_values1,loss_value_convex = optimize_with_initialize_betas(g, l,selected_cities, betas=[5,10,20,50,100],  n_iter=n_iter,mutation_strategy=3, precompute_pairwise_dist=False, verbose=False)\n",
    "loss_values1[-1]=(loss_value_convex)  \n",
    "if type(selected_cities_n) == list:\n",
    "    selected_cities_n = selected_cities_n[-1]\n",
    "selected_cities_n, selected_cities_n_convex, loss_values,loss_value_convex = optimize_with_initialize_betas(g, l, selected_cities_n_convex, betas=[50],n_iter=n_iter,mutation_strategy=2,precompute_pairwise_dist=False, verbose=False)\n",
    "if type(selected_cities_n) == list:\n",
    "    selected_cities_n = selected_cities_n[-1]\n",
    "loss_values[-1]=(loss_value_convex) \n",
    "total_loss=np.concatenate((loss_values1,loss_values))\n",
    "total_loss=total_loss[::2]\n",
    "f_st[4]=total_loss\n",
    "selected_st[4]=selected_cities_n_convex\n",
    "plt.plot(f_st[4],label = \"Combining\")\n",
    "\n",
    "plt.hlines(best_f, 0, n_iter, linestyles=\"-.\", label=\"optimal solution\")\n",
    "plt.hlines(result[1], 0, n_iter, linestyles=\"--\", label=\"brut-force solution\")\n",
    "\n",
    "plt.legend()\n",
    "print(np.amin(f_st,1))\n",
    "print(np.amin(f_st))\n",
    "best_min=np.amin(f_st)\n",
    "best=np.argmin(np.amin(f_st,1))\n",
    "print(\"The best cost is=%f, found for strategy %i\"%(best_min,best))\n",
    "print(f'Approximated Bruteforce best solution {best_f}')\n",
    "print(f'Real Bruteforce best solution {brute_force_f}')\n",
    "\n",
    "plotResult(0,selected_st[best],None,f_st[best],None,None)\n",
    "\n",
    "if f_st[best][-1]==brute_force_f:\n",
    "    print(\"Best solution found!\")\n",
    "\n"
   ]
  },
  {
   "cell_type": "code",
   "execution_count": null,
   "metadata": {},
   "outputs": [],
   "source": [
    "print(selected_st[best])\n",
    "f, max_dist, max_idx, convex_hull = objective_function_(N, l, g, None, selected_st[best], None, None)\n",
    "print(f)\n",
    "f, max_dist, max_idx, convex_hull = objective_function_(N, l, g, None, best_selected_cities, None, None)\n",
    "print(f)\n",
    "\n"
   ]
  }
 ],
 "metadata": {
  "colab": {
   "authorship_tag": "ABX9TyMHjD1LWevMEBRvKxj7qq4T",
   "collapsed_sections": [],
   "include_colab_link": true,
   "name": "model.ipynb",
   "provenance": []
  },
  "kernelspec": {
   "display_name": "Python 3",
   "language": "python",
   "name": "python3"
  },
  "language_info": {
   "codemirror_mode": {
    "name": "ipython",
    "version": 3
   },
   "file_extension": ".py",
   "mimetype": "text/x-python",
   "name": "python",
   "nbconvert_exporter": "python",
   "pygments_lexer": "ipython3",
   "version": "3.7.8"
  }
 },
 "nbformat": 4,
 "nbformat_minor": 4
}
