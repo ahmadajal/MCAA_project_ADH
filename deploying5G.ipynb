{
 "cells": [
  {
   "cell_type": "code",
   "execution_count": null,
   "metadata": {
    "id": "BMV_GyHTe-A5"
   },
   "outputs": [],
   "source": [
    "import scipy.stats as st\n",
    "import numpy as np\n",
    "import scipy as sp\n",
    "import matplotlib.pyplot as plt\n",
    "\n",
    "import tqdm \n",
    "import tqdm.notebook\n",
    "import scipy "
   ]
  },
  {
   "cell_type": "code",
   "execution_count": null,
   "metadata": {
    "id": "9_4LNOEAfb6H"
   },
   "outputs": [],
   "source": [
    "class DatasetGenerator(object):\n",
    "    def __init__(self, N=100):\n",
    "        self.N = N\n",
    "        self.x = None\n",
    "        self.v = None\n",
    "        self.refresh()\n",
    "  \n",
    "    def refresh(self):\n",
    "        raise Exception(\"undefined\")\n",
    "    \n",
    "class G1(DatasetGenerator):\n",
    "    def refresh(self):\n",
    "        self.x = st.uniform().rvs((self.N,2))\n",
    "        self.v = st.uniform().rvs((self.N,))\n",
    "\n",
    "class G2(DatasetGenerator):\n",
    "    def refresh(self):\n",
    "        self.x = st.uniform().rvs((self.N,2))\n",
    "        self.v = np.exp(st.norm(-0.85, 1.3).rvs((self.N,)))"
   ]
  },
  {
   "cell_type": "code",
   "execution_count": null,
   "metadata": {
    "id": "69EQnzkcgxtb"
   },
   "outputs": [],
   "source": [
    "# Uniform distribution\n",
    "\n",
    "g1 = G1()\n",
    "# Plot a histogram of the v array\n",
    "plt.hist(g1.v, bins=30)\n",
    "plt.show()\n",
    "\n",
    "# plot the position of the points\n",
    "plt.figure(figsize=(5,5))\n",
    "plt.scatter(g1.x[:,0], g1.x[:,1])\n",
    "plt.show()\n",
    "\n",
    "g1.refresh() # generate a new dataset\n",
    "plt.hist(g1.v, bins=30)\n",
    "plt.show()\n",
    "\n",
    "m = np.array([0., 0.])\n",
    "\n",
    "for _ in range(10):\n",
    "  g1.refresh() # refresh the dataset\n",
    "  m  += 0.1*g1.x.mean()\n",
    "\n",
    "print(m)\n",
    "\n",
    "# Log normal distribution\n",
    "g2 = G2()\n",
    "plt.hist(g2.v, bins=30)\n",
    "plt.show()\n",
    "g2.refresh()\n",
    "plt.hist(g2.v, bins=30)\n",
    "plt.show()"
   ]
  },
  {
   "cell_type": "markdown",
   "metadata": {
    "id": "UrAwB81ykRCM"
   },
   "source": [
    "---"
   ]
  },
  {
   "cell_type": "markdown",
   "metadata": {
    "id": "GeH_E-MGjHvd"
   },
   "source": [
    "### Metropolis Hastings"
   ]
  },
  {
   "cell_type": "markdown",
   "metadata": {},
   "source": [
    "#### Useful functions"
   ]
  },
  {
   "cell_type": "code",
   "execution_count": null,
   "metadata": {},
   "outputs": [],
   "source": [
    "# an optimal beta as said in the course, could be interesting to use it\n",
    "def computeBeta(N0, N1, f0, f1, epsilon):\n",
    "    return log(N1 / (epsilon * N0)) / (f1 - f0)"
   ]
  },
  {
   "cell_type": "code",
   "execution_count": null,
   "metadata": {},
   "outputs": [],
   "source": [
    "def objectiveFunction(N, l, citiesV, selectedCities, pairwise_distances):\n",
    "    # Compute maximum area\n",
    "    max_area = np.pi / 4 * np.max(np.outer(selectedCities, selectedCities) * pairwise_distances)\n",
    "\n",
    "    # Compute final loss\n",
    "    f = np.sum(selectedCities * citiesV) - l * N * max_area\n",
    "    return -f\n",
    "\n",
    "# Old code\n",
    "# def maxArea(citiesX, selectedCities):\n",
    "#     n = citiesX.shape[0]\n",
    "#     result = np.zeros((n,n))\n",
    "#     for i in range(n):\n",
    "#         for j in range(n):\n",
    "#             if selectedCities[i]==1 and selectedCities[j]==1:\n",
    "#                 result[i,j]=(citiesX[i,0]-citiesX[j,0])*(citiesX[i,0]-citiesX[j,0])+(citiesX[i,1]-citiesX[j,1])*(citiesX[i,1]-citiesX[j,1])\n",
    "#     maxR = np.amax(result)\n",
    "#     return np.pi * maxR / 4\n",
    "# def objectiveFunction(N,l,citiesV,selectedCities, _): \n",
    "#     f = 0\n",
    "#     for i in range(N):\n",
    "#         if selectedCities[i]:\n",
    "#             f += citiesV[i]\n",
    "#     f = f - l * N * maxArea(citiesX, selectedCities)\n",
    "#     return -f\n",
    "    "
   ]
  },
  {
   "cell_type": "code",
   "execution_count": null,
   "metadata": {},
   "outputs": [],
   "source": [
    "def acceptancePb(selectedCities_i,selectedCities_j,beta,N,l,citiesV, pairwise_distances):\n",
    "    fi = objectiveFunction(N, l, citiesV, selectedCities_i, pairwise_distances)\n",
    "    fj = objectiveFunction(N, l, citiesV, selectedCities_j, pairwise_distances)\n",
    "    result = np.exp(-beta * (fj - fi))\n",
    "    return min(1, result)"
   ]
  },
  {
   "cell_type": "code",
   "execution_count": null,
   "metadata": {},
   "outputs": [],
   "source": [
    "def pbij(selectedCities_i, selectedCities_j, beta, N, l, citiesV):\n",
    "    # not used in the algorithm, could be useful to plot and compare statistics\n",
    "    if selectedCities_i == selectedCities_j:\n",
    "        s = 0\n",
    "        for k in range (N):\n",
    "            selectedCities_k=np.copy(selectedCities_i)\n",
    "            selectedCities_k[k]=1-selectedCities_i[k]\n",
    "            a_ik=acceptancePb(selectedCities_i,selectedCities_k,beta,n,l,citiesV)\n",
    "            phi_ik=(1/2)*(1/N)\n",
    "            s+=phi_ik*a_ik\n",
    "        return 1-s\n",
    "    else:\n",
    "        a_ij=acceptancePb(selectedCities_i,selectedCities_j,beta,n,l,citiesV)\n",
    "        phi_ij=(1/2)*(1/N) #pb of chosing a city*pb choosing if 0 or 1\n",
    "        return a_ij*phi_ij\n",
    "    "
   ]
  },
  {
   "cell_type": "code",
   "execution_count": null,
   "metadata": {},
   "outputs": [],
   "source": [
    "def plotStatistics(): #useful to see the evolution of the number of cities selected and the f function\n",
    "    return"
   ]
  },
  {
   "cell_type": "markdown",
   "metadata": {},
   "source": [
    "#### The Algorithm"
   ]
  },
  {
   "cell_type": "code",
   "execution_count": null,
   "metadata": {
    "id": "sbZXvBgti6_C"
   },
   "outputs": [],
   "source": []
  },
  {
   "cell_type": "markdown",
   "metadata": {},
   "source": [
    "**Algorithm:**\n",
    "1. Start from a random distribution\n",
    "2. Select a city uniformly at random\n",
    "3. choose if city had to be in the set, meaning selectedCities should be set to 0 or 1 (pb 1/2)\n",
    "4. Accept or not that choice for that city, using the acceptance pb\n",
    "5. Repeat (for a fixed number of times m)"
   ]
  },
  {
   "cell_type": "markdown",
   "metadata": {},
   "source": [
    "Here is step 2,3,4:"
   ]
  },
  {
   "cell_type": "code",
   "execution_count": null,
   "metadata": {},
   "outputs": [],
   "source": [
    "# Step 2,3,4\n",
    "def step(N, citiesX, citiesV, selectedCities_i, beta, l, pairwise_distances):\n",
    "    k = np.random.randint(0, N);\n",
    "    if np.random.rand() < 0.5: # Remove a city\n",
    "        if selectedCities_i[k] == 0: # same state then before\n",
    "            return selectedCities_i # do nothing, it is accepted\n",
    "        else:\n",
    "            selectedCities_k = np.copy(selectedCities_i)\n",
    "            selectedCities_k[k] = 0 # city removed from set\n",
    "            a_ik = acceptancePb(selectedCities_i, selectedCities_k, beta, N, l, citiesV, pairwise_distances) \n",
    "            if np.random.rand() < a_ik:\n",
    "                return selectedCities_k #accepted!\n",
    "            else:\n",
    "                return selectedCities_i #refused\n",
    "    else: # Add a city\n",
    "        if selectedCities_i[k] == 1: # do nothing, city already in set\n",
    "            return selectedCities_i\n",
    "        else:\n",
    "            selectedCities_k = np.copy(selectedCities_i)\n",
    "            selectedCities_k[k] = 1 # add city to set\n",
    "            #could of course be computed in a smarter way\n",
    "            a_ik = acceptancePb(selectedCities_i, selectedCities_k, beta, N, l, citiesV, pairwise_distances)\n",
    "            if np.random.rand() < a_ik:\n",
    "                return selectedCities_k #city added!\n",
    "            else:\n",
    "                return selectedCities_i #refused\n"
   ]
  },
  {
   "cell_type": "markdown",
   "metadata": {},
   "source": [
    "New run"
   ]
  },
  {
   "cell_type": "code",
   "execution_count": null,
   "metadata": {},
   "outputs": [],
   "source": [
    "np.random.seed(42)\n",
    "n_iter = 2000\n",
    "\n",
    "# parametersc\n",
    "l = 0.3 # lambda in [0,1]\n",
    "beta = 100\n",
    "\n",
    "# initialization\n",
    "N = 100\n",
    "n_selected = 0\n",
    "g = G1(N)\n",
    "g = G2(N)\n",
    "citiesX = g.x\n",
    "citiesV = g.v\n",
    "\n",
    "selectedCities_n = np.random.randint(2, size=(N))\n",
    "\n",
    "# Precompute all pairwise distances between points\n",
    "# TODO: This probably should be euclidean distance instead of squared distance?\n",
    "# (this currently matches Heloise's original code)\n",
    "pairwise_distances = scipy.spatial.distance.squareform(scipy.spatial.distance.pdist(citiesX, 'sqeuclidean'))\n",
    "    \n",
    "fs = np.zeros(n_iter) #keep record of objective function (in fact, minus objective function)\n",
    "fs[0] = objectiveFunction(N, l, citiesV, selectedCities_n, pairwise_distances)\n",
    "\n",
    "for m in tqdm.notebook.tqdm(range(n_iter)):\n",
    "    fs[m] = objectiveFunction(N, l, citiesV, selectedCities_n, pairwise_distances)\n",
    "    selectedCities_n = step(N, citiesX, citiesV, selectedCities_n, beta, l, pairwise_distances)\n",
    "    \n",
    "print(selectedCities_n)\n",
    "print('fM '+ str(fs[n_iter-1]))\n",
    "plt.figure()\n",
    "plt.plot(np.arange(n_iter), fs);"
   ]
  },
  {
   "cell_type": "code",
   "execution_count": null,
   "metadata": {},
   "outputs": [],
   "source": []
  },
  {
   "cell_type": "markdown",
   "metadata": {},
   "source": [
    "**Discussion:**\n",
    "* convergence in terms of beta ?\n",
    "* Choice of beta? Small then large, or use the optimal beta of the course (need precomputation?)\n",
    "* Run the simulation many times? Then pick the min? Or do simulated annealing (with different beta)\n",
    "\n",
    "**To be added:**\n",
    "* statistics and visualization (of the cities at their location, with a color corresponding to selected or not)\n"
   ]
  }
 ],
 "metadata": {
  "colab": {
   "authorship_tag": "ABX9TyMHjD1LWevMEBRvKxj7qq4T",
   "collapsed_sections": [],
   "include_colab_link": true,
   "name": "model.ipynb",
   "provenance": []
  },
  "kernelspec": {
   "display_name": "Python 3",
   "language": "python",
   "name": "python3"
  },
  "language_info": {
   "codemirror_mode": {
    "name": "ipython",
    "version": 3
   },
   "file_extension": ".py",
   "mimetype": "text/x-python",
   "name": "python",
   "nbconvert_exporter": "python",
   "pygments_lexer": "ipython3",
   "version": "3.8.5"
  }
 },
 "nbformat": 4,
 "nbformat_minor": 4
}
