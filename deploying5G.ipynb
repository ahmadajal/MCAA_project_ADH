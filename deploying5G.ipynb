{
 "cells": [
  {
   "cell_type": "code",
   "execution_count": null,
   "metadata": {},
   "outputs": [],
   "source": [
    "# This reloads python code imported from *.py files automatically\n",
    "%reload_ext autoreload\n",
    "%autoreload 2"
   ]
  },
  {
   "cell_type": "code",
   "execution_count": null,
   "metadata": {
    "id": "BMV_GyHTe-A5"
   },
   "outputs": [],
   "source": [
    "import numpy as np\n",
    "import matplotlib.pyplot as plt\n",
    "\n",
    "import tqdm \n",
    "import tqdm.notebook\n",
    "\n",
    "from optimization import *"
   ]
  },
  {
   "cell_type": "code",
   "execution_count": null,
   "metadata": {
    "id": "9_4LNOEAfb6H"
   },
   "outputs": [],
   "source": []
  },
  {
   "cell_type": "code",
   "execution_count": null,
   "metadata": {
    "id": "69EQnzkcgxtb"
   },
   "outputs": [],
   "source": [
    "# Uniform distribution\n",
    "\n",
    "g1 = G1()\n",
    "# Plot a histogram of the v array\n",
    "plt.hist(g1.v, bins=30)\n",
    "plt.show()\n",
    "\n",
    "# plot the position of the points\n",
    "plt.figure(figsize=(5,5))\n",
    "plt.scatter(g1.x[:,0], g1.x[:,1])\n",
    "plt.show()\n",
    "\n",
    "g1.refresh() # generate a new dataset\n",
    "plt.hist(g1.v, bins=30)\n",
    "plt.show()\n",
    "\n",
    "m = np.array([0., 0.])\n",
    "\n",
    "for _ in range(10):\n",
    "  g1.refresh() # refresh the dataset\n",
    "  m  += 0.1*g1.x.mean()\n",
    "\n",
    "print(m)\n",
    "\n",
    "# Log normal distribution\n",
    "g2 = G2()\n",
    "plt.hist(g2.v, bins=30)\n",
    "plt.show()\n",
    "g2.refresh()\n",
    "plt.hist(g2.v, bins=30)\n",
    "plt.show()"
   ]
  },
  {
   "cell_type": "markdown",
   "metadata": {
    "id": "UrAwB81ykRCM"
   },
   "source": [
    "---"
   ]
  },
  {
   "cell_type": "code",
   "execution_count": null,
   "metadata": {},
   "outputs": [],
   "source": [
    "np.random.seed(42)\n",
    "n_iter = 20000\n",
    "\n",
    "# parametersc\n",
    "l = 0.8 # lambda in [0,1]\n",
    "beta = 25\n",
    "\n",
    "# initialization\n",
    "N = 100\n",
    "n_selected = 0\n",
    "g = G1(N)\n",
    "g = G2(N)\n",
    "citiesX = g.x\n",
    "citiesV = g.v\n"
   ]
  },
  {
   "cell_type": "code",
   "execution_count": null,
   "metadata": {},
   "outputs": [],
   "source": [
    "# Run the optimization to compute the selected cities\n",
    "np.random.seed(52)\n",
    "selected_cities_n, loss_values = optimize(g, l, beta=beta, \n",
    "                                          n_iter=n_iter,mutation_strategy=0,\n",
    "                                          precompute_pairwise_dist=False, verbose=True)\n",
    "\n",
    "if type(selected_cities_n) == list:\n",
    "    selected_cities_n = selected_cities_n[-1]\n",
    "print(selected_cities_n)\n",
    "print('Final loss '+ str(loss_values[n_iter-1]))\n",
    "plt.figure()\n",
    "plt.plot(np.arange(n_iter), loss_values);\n",
    "\n",
    "plt.figure()\n",
    "m = selected_cities_n == 1\n",
    "plt.scatter(g.x[:, 0], g.x[:, 1])\n",
    "plt.scatter(g.x[m, 0], g.x[m, 1], c='r')\n",
    "plt.xlim(0, 1)\n",
    "plt.ylim(0, 1)\n"
   ]
  },
  {
   "cell_type": "code",
   "execution_count": null,
   "metadata": {},
   "outputs": [],
   "source": []
  },
  {
   "cell_type": "markdown",
   "metadata": {},
   "source": [
    "**Discussion:**\n",
    "* convergence in terms of beta ?\n",
    "* Choice of beta? Small then large, or use the optimal beta of the course (need precomputation?)\n",
    "* Run the simulation many times? Then pick the min? Or do simulated annealing (with different beta)\n",
    "\n",
    "**To be added:**\n",
    "* statistics and visualization (of the cities at their location, with a color corresponding to selected or not)\n"
   ]
  },
  {
   "cell_type": "code",
   "execution_count": null,
   "metadata": {},
   "outputs": [],
   "source": [
    "a = np.random.rand(10)\n",
    "idx = np.zeros_like(a)\n",
    "idx[1] =1\n",
    "idx[5] = 1\n",
    "\n",
    "\n"
   ]
  },
  {
   "cell_type": "code",
   "execution_count": null,
   "metadata": {},
   "outputs": [],
   "source": [
    "import scipy\n",
    "from optimization import *\n",
    "\n",
    "a = np.arange(16).reshape(4, 4)\n",
    "a = a.T @ a\n",
    "print(a)\n",
    "for i in range(4):\n",
    "    a[i, i] = 0\n",
    "scipy.spatial.distance.squareform(a)\n",
    "\n",
    "for i in range(6):\n",
    "    print(condensed_to_square(i, 4))\n",
    "\n"
   ]
  },
  {
   "cell_type": "code",
   "execution_count": null,
   "metadata": {},
   "outputs": [],
   "source": []
  }
 ],
 "metadata": {
  "colab": {
   "authorship_tag": "ABX9TyMHjD1LWevMEBRvKxj7qq4T",
   "collapsed_sections": [],
   "include_colab_link": true,
   "name": "model.ipynb",
   "provenance": []
  },
  "kernelspec": {
   "display_name": "Python 3",
   "language": "python",
   "name": "python3"
  },
  "language_info": {
   "codemirror_mode": {
    "name": "ipython",
    "version": 3
   },
   "file_extension": ".py",
   "mimetype": "text/x-python",
   "name": "python",
   "nbconvert_exporter": "python",
   "pygments_lexer": "ipython3",
   "version": "3.8.6"
  }
 },
 "nbformat": 4,
 "nbformat_minor": 4
}
