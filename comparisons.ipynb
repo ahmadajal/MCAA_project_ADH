{
 "cells": [
  {
   "cell_type": "code",
   "execution_count": null,
   "metadata": {},
   "outputs": [],
   "source": [
    "# This reloads python code imported from *.py files automatically\n",
    "%reload_ext autoreload\n",
    "%autoreload 2"
   ]
  },
  {
   "cell_type": "code",
   "execution_count": null,
   "metadata": {},
   "outputs": [],
   "source": [
    "import numpy as np\n",
    "import matplotlib.pyplot as plt\n",
    "\n",
    "import tqdm \n",
    "import tqdm.notebook\n",
    "\n",
    "import optimization as opt\n",
    "import smooth as optclean\n",
    "\n",
    "import time\n",
    "# optimal solution\n",
    "from optimal_solution import *\n",
    "import clustering as clus\n",
    "from util import *"
   ]
  },
  {
   "cell_type": "code",
   "execution_count": null,
   "metadata": {},
   "outputs": [],
   "source": [
    "from scipy.cluster.vq import kmeans,vq,whiten\n",
    "import itertools"
   ]
  },
  {
   "cell_type": "markdown",
   "metadata": {},
   "source": [
    "## Initialization"
   ]
  },
  {
   "cell_type": "code",
   "execution_count": null,
   "metadata": {},
   "outputs": [],
   "source": [
    "#n_iter = 5000\n",
    "n_iter = 10000\n",
    "# parameters\n",
    "l = 0.8 # lambda in [0,1], or in [0,2] for G2\n",
    "beta = 20\n",
    "# initialization\n",
    "N = 1000\n",
    "n_selected = 0\n",
    "g = G1(N)\n",
    "# g = G2(N)\n",
    "f_test=0\n",
    "brute_force_f=0"
   ]
  },
  {
   "cell_type": "markdown",
   "metadata": {},
   "source": [
    "## Comparison"
   ]
  },
  {
   "cell_type": "code",
   "execution_count": null,
   "metadata": {},
   "outputs": [],
   "source": [
    "## betas=[5,10,20,50,100]\n",
    "betas=[40]\n",
    "nb_strategies=6\n",
    "f_st=np.zeros((nb_strategies+4,n_iter))\n",
    "all_results=np.zeros((nb_strategies+4,N))\n",
    "fig=plt.plot\n",
    "\n",
    "\n",
    "selected_cities_init=np.zeros(N)\n",
    "\n",
    "#### Strategy 0 --> 3\n",
    "for i in range(nb_strategies):\n",
    "    np.random.seed()\n",
    "    print('strategy n° '+str(i))\n",
    "    selected_cities_n, selected_cities_n_convex, loss_values,loss_value_convex = opt.optimize(g, l, beta=betas[0],  \n",
    "                                              n_iter=n_iter,mutation_strategy=i,\n",
    "                                              verbose=False)\n",
    "    if type(selected_cities_n) == list:\n",
    "        selected_cities_n = selected_cities_n[-1]\n",
    "    loss_values[-1]=(loss_value_convex) \n",
    "    f_st[i]=loss_values\n",
    "    plt.plot(f_st[i],label = \"mutation_strategy=\"+str(i))\n",
    "    all_results[i]=selected_cities_n_convex\n",
    "    \n",
    "# for i in range(nb_strategies-2,nb_strategies):\n",
    "#     np.random.seed()\n",
    "#     print('strategy n° '+str(i))\n",
    "#     selected_cities_n, selected_cities_n_convex, loss_values,loss_value_convex = optimize(g, l, beta=betas[0], n_iter=n_iter, mutation_strategy=i, initial_selection_probability=0.5, precompute_pairwise_dist=False, verbose=True, selected_cities=selected_cities_init)\n",
    "#     if type(selected_cities_n) == list:\n",
    "#         selected_cities_n = selected_cities_n[-1]\n",
    "#     loss_values[-1]=(loss_value_convex) \n",
    "#     f_st[i]=loss_values\n",
    "#     plt.plot(f_st[i],label = \"mutation_strategy=\"+str(i))\n",
    "#     all_results[i]=selected_cities_n_convex\n",
    "    \n",
    "#combining 3 and 2  \n",
    "selected_cities_n, selected_cities_n_convex, loss_values,loss_value_convex =opt.optimize_combine(g, l, selected_cities_init, betas=betas, n_iter=n_iter, precompute_pairwise_dist=False, verbose=True)\n",
    "f_st[nb_strategies]=loss_values\n",
    "all_results[nb_strategies]=selected_cities_n_convex\n",
    "plt.plot(f_st[nb_strategies],label = \"Combining\")\n",
    "############\n",
    "\n",
    "#clustering1\n",
    "selected_cities_n_convex, loss_values,_ =clus.optimize(g, l, beta=20, beta_last=50, n_iter=n_iter, mutation_strategy=1, verbose=False, show=False)\n",
    "f_st[nb_strategies+1]=loss_values\n",
    "all_results[nb_strategies+1]=selected_cities_n_convex\n",
    "plt.plot(f_st[nb_strategies+1],label = \"Clustering 1\")\n",
    "#clustering2\n",
    "print('clustering')\n",
    "selected_cities_n_convex, loss_values,_ =clus.optimize_simple(g, l, beta=20, n_iter=n_iter, mutation_strategy=1, verbose=False, show=False)\n",
    "f_st[nb_strategies+2]=loss_values\n",
    "all_results[nb_strategies+2]=selected_cities_n_convex\n",
    "plt.plot(f_st[nb_strategies+2],label = \"Clustering 2\")\n",
    "\n",
    "\n",
    "#optimization_clean\n",
    "print('5 with optimize clean')\n",
    "selected_cities_n,loss_values,_=optclean.optimize(g, l, beta=betas[0], n_iter=n_iter, verbose=True)\n",
    "if type(selected_cities_n) == list:\n",
    "    selected_cities_n = selected_cities_n[-1]\n",
    "# f = objective_function_simple(N, l, g, selected_cities_n,pairwise_distances=None)\n",
    "# print('f found='+str(f))\n",
    "# f,_,_,_=objective_function_(N, l, g, None, selected_cities_n, None, None)\n",
    "# print('f found='+str(f))\n",
    "# print('f found='+str(loss_values[-1]))\n",
    "f_st[nb_strategies+3]=loss_values\n",
    "\n",
    "all_results[nb_strategies+3]=selected_cities_n\n",
    "plt.plot(f_st[nb_strategies+2],label = \"Smooth 5\")\n",
    "\n",
    "\n",
    "\n",
    "# plt.hlines(f_test, 0, n_iter, linestyles=\"--\", label=\"brut-force solution\")\n",
    "\n",
    "plt.legend()\n",
    "print(f_st[:,-1])\n",
    "\n",
    "# print('Min for all the methods:')\n",
    "# #print(np.amin(f_st,1))\n",
    "# print(np.amin(f_st[:,-1]))\n",
    "# print(np.argmin(f_st[:,-1]))\n",
    "#print(np.amin(f_st))\n",
    "best_min_over_all=np.amin(f_st)\n",
    "best_min=np.amin(f_st[:,-1])\n",
    "if best_min_over_all!=best_min:\n",
    "    print('best was not the last value: best_min= '+str(best_min)+\" best_min_over_all= \"+str(best_min_over_all))\n",
    "else:\n",
    "    print('best was the last value')\n",
    "# best=np.argmin(np.amin(f_st,1)\n",
    "best=np.argmin((f_st[:,-1]))\n",
    "print(\"The best cost is=%f, found for strategy %i\"%(best_min,best))\n",
    "# print(f'Approximated Bruteforce best solution {best_f}')\n",
    "\n",
    "plotResult(g,0,all_results[best],None,f_st[best],None,None,verbose=False)\n",
    "\n",
    "    \n",
    "np.save('solbest', all_results[best])\n",
    "\n"
   ]
  },
  {
   "cell_type": "code",
   "execution_count": null,
   "metadata": {},
   "outputs": [],
   "source": [
    "# just to be sure\n",
    "f = objective_function_simple(N, l, g, all_results[best],\n",
    "                          pairwise_distances=None)\n",
    "print(f)\n",
    "\n",
    "# plotResult(g,0,selected_cities_n_result,selected_cities_n_convex,loss_values,loss_value_convex,None)"
   ]
  },
  {
   "cell_type": "code",
   "execution_count": null,
   "metadata": {},
   "outputs": [],
   "source": [
    "selected_cities_n,loss_values,_=optclean.optimize(g, l, beta=40, n_iter=n_iter)\n",
    "f = objective_function_simple(g.x.shape[0], l, g, np.array(selected_cities_n[-1]),pairwise_distances=None)\n",
    "print('f found='+str(f))\n",
    "f,_,_,_=objective_function_(g.x.shape[0], l, g, None, selected_cities_n, None, None)\n",
    "print('f found='+str(f))\n",
    "print('f found='+str(loss_values[-1]))"
   ]
  },
  {
   "cell_type": "code",
   "execution_count": null,
   "metadata": {},
   "outputs": [],
   "source": [
    "selected_cities_init=np.zeros(N)\n",
    "selected_cities_n, selected_cities_n_convex, loss_values,loss_value_convex = optimize(g, l, beta=betas[0],  \n",
    "                                          n_iter=n_iter,mutation_strategy=3, initial_selection_probability=0,\n",
    "                                          precompute_pairwise_dist=False, verbose=False,selected_cities=selected_cities_init)\n",
    "if type(selected_cities_n) == list:\n",
    "    selected_cities_n = selected_cities_n[-1]\n",
    "loss_values[-1]=(loss_value_convex) \n",
    "plotResult(g,0,selected_cities_n,selected_cities_n_convex,loss_values,loss_value_convex,None,verbose=False)\n",
    "plt.savefig('conve_hull.png')\n"
   ]
  }
 ],
 "metadata": {
  "kernelspec": {
   "display_name": "Python 3",
   "language": "python",
   "name": "python3"
  },
  "language_info": {
   "codemirror_mode": {
    "name": "ipython",
    "version": 3
   },
   "file_extension": ".py",
   "mimetype": "text/x-python",
   "name": "python",
   "nbconvert_exporter": "python",
   "pygments_lexer": "ipython3",
   "version": "3.7.8"
  }
 },
 "nbformat": 4,
 "nbformat_minor": 4
}
