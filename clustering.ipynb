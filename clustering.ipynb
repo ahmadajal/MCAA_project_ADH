{
 "cells": [
  {
   "cell_type": "code",
   "execution_count": null,
   "metadata": {},
   "outputs": [],
   "source": [
    "# This reloads python code imported from *.py files automatically\n",
    "%reload_ext autoreload\n",
    "%autoreload 2"
   ]
  },
  {
   "cell_type": "code",
   "execution_count": null,
   "metadata": {
    "id": "BMV_GyHTe-A5"
   },
   "outputs": [],
   "source": [
    "import numpy as np\n",
    "import matplotlib.pyplot as plt\n",
    "\n",
    "import tqdm \n",
    "import tqdm.notebook\n",
    "\n",
    "from optimization import *\n",
    "\n",
    "import time\n",
    "# optimal solution\n",
    "from optimal_solution import *\n",
    "from clustering import *"
   ]
  },
  {
   "cell_type": "code",
   "execution_count": null,
   "metadata": {
    "id": "9_4LNOEAfb6H"
   },
   "outputs": [],
   "source": [
    "from scipy.cluster.vq import kmeans,vq,whiten\n",
    "import itertools"
   ]
  },
  {
   "cell_type": "markdown",
   "metadata": {},
   "source": [
    "### Clustering tests"
   ]
  },
  {
   "cell_type": "code",
   "execution_count": null,
   "metadata": {},
   "outputs": [],
   "source": [
    "n_iter = 5000\n",
    "\n",
    "# parameters\n",
    "l = 0.5 # lambda in [0,1], or in [0,2] for G2\n",
    "beta = 50\n",
    "\n",
    "# initialization\n",
    "N = 10\n",
    "n_selected = 0\n",
    "g = G1(N)\n",
    "g = G2(N)\n",
    "citiesX = g.x\n",
    "citiesV = g.v"
   ]
  },
  {
   "cell_type": "markdown",
   "metadata": {},
   "source": [
    "#### Simple clusters"
   ]
  },
  {
   "cell_type": "markdown",
   "metadata": {},
   "source": [
    "* Automatic selection of centroids"
   ]
  },
  {
   "cell_type": "code",
   "execution_count": null,
   "metadata": {},
   "outputs": [],
   "source": [
    "start_time = time.time()\n",
    "data = whiten(g.x)\n",
    "centroids,_ = kmeans(data,10)\n",
    "clx,_ = vq(data,centroids)\n",
    "centroids_V=[np.sum(g.v, where=(clx == k)) for k in range (centroids.shape[0])]\n",
    "d1=(time.time() - start_time)\n",
    "\n",
    "fig,axes=plt.subplots(1,2,figsize=(12,4))\n",
    "axes[0].scatter(data[:,0],data[:,1], s=g.v,c=clx ,label='cities')\n",
    "sequence = np.arange(centroids.shape[0])\n",
    "axes[1].scatter(centroids[:, 0], centroids[:, 1],s=centroids_V, c=sequence,label='centroids')\n",
    "print(np.sum(g.v))\n",
    "print(np.sum(centroids_V))\n",
    "print(d1)"
   ]
  },
  {
   "cell_type": "markdown",
   "metadata": {},
   "source": [
    "* with defined centroids: population is involved"
   ]
  },
  {
   "cell_type": "code",
   "execution_count": null,
   "metadata": {},
   "outputs": [],
   "source": [
    "start_time = time.time()\n",
    "ind = np.argpartition(g.v, -10)[-10:]\n",
    "data = whiten(g.x)\n",
    "centroids=(data[ind])\n",
    "clx,_ = vq(data,centroids)\n",
    "centroids_V=[np.sum(g.v, where=(clx == k)) for k in range (centroids.shape[0])]\n",
    "d1=(time.time() - start_time)\n",
    "\n",
    "fig,axes=plt.subplots(1,2,figsize=(12,4))\n",
    "axes[0].scatter(data[:,0],data[:,1], s=g.v,c=clx ,label='cities')\n",
    "sequence = np.arange(centroids.shape[0])\n",
    "axes[1].scatter(centroids[:, 0], centroids[:, 1], s=centroids_V, c=sequence,label='centroids')\n",
    "print(np.sum(g.v))\n",
    "print(np.sum(centroids_V))\n",
    "\n",
    "print(d1)"
   ]
  },
  {
   "cell_type": "markdown",
   "metadata": {},
   "source": [
    "### Study case 10 cities"
   ]
  },
  {
   "cell_type": "code",
   "execution_count": null,
   "metadata": {},
   "outputs": [],
   "source": [
    "n_iter = 5000\n",
    "# parameters\n",
    "l = 0.5 # lambda in [0,1], or in [0,2] for G2\n",
    "beta = 20\n",
    "# initialization\n",
    "N = 10\n",
    "n_selected = 0\n",
    "g = G1(N)\n",
    "# g = G2(N)\n",
    "\n",
    "result=bruteforce_sol(N, l, g)\n",
    "print(result)\n",
    "best_selected_cities=np.array(result[0])\n",
    "brute_force_f, max_dist, max_idx, convex_hull = objective_function_(N, l, g, None, best_selected_cities, None, None)\n",
    "print(brute_force_f)\n",
    "print(result[1])\n",
    "brute_force_f=result[1]\n",
    "plotResult(g,0,best_selected_cities,None,np.zeros(n_iter) +brute_force_f,None,None)"
   ]
  },
  {
   "cell_type": "code",
   "execution_count": null,
   "metadata": {},
   "outputs": [],
   "source": [
    "best_sol, best_f = opt_solution_circle(N, l, g, verbose=True)\n",
    "print(f\"Best solution: {best_f}\")    \n",
    "plotResult(g,0, best_sol, None, np.zeros(n_iter) + best_f, None, None)  "
   ]
  },
  {
   "cell_type": "code",
   "execution_count": null,
   "metadata": {},
   "outputs": [],
   "source": [
    "initial_selection_probability=0.5"
   ]
  },
  {
   "cell_type": "code",
   "execution_count": null,
   "metadata": {},
   "outputs": [],
   "source": [
    "np.random.seed()\n",
    "selected_cities=(np.random.rand(N) <= initial_selection_probability).astype(np.int32)\n",
    "# selected_cities=np.zeros(N)\n",
    "print(selected_cities)\n",
    "\n",
    "f_st=np.zeros((5,n_iter))\n",
    "selected_st=np.zeros((5,N))\n",
    "fig=plt.plot\n",
    "for i in range(4):\n",
    "    selected_cities_n, selected_cities_n_convex, loss_values,loss_value_convex = optimize_with_initialize_betas(g, l, selected_cities, betas=[5,10,20,50,100], \n",
    "                                              n_iter=n_iter,mutation_strategy=i, initial_selection_probability=initial_selection_probability,\n",
    "                                              precompute_pairwise_dist=False, verbose=False)\n",
    "    \n",
    "    f = objective_function_simple(N, l, g, selected_cities_n_convex,\n",
    "                          pairwise_distances=None)\n",
    "    loss_value_convex = f\n",
    "    if type(selected_cities_n) == list:\n",
    "        selected_cities_n = selected_cities_n[-1]\n",
    "    loss_values[-1]=(loss_value_convex) \n",
    "#     print(loss_value_convex)\n",
    "    f_st[i]=loss_values\n",
    "    plt.plot(f_st[i],label = \"mutation_strategy=\"+str(i))\n",
    "    selected_st[i]=selected_cities_n_convex\n",
    "    \n",
    "#combining 3 and 2    \n",
    "selected_cities_n, selected_cities_n_convex, loss_values1,loss_value_convex = optimize_with_initialize_betas(g, l,selected_cities, betas=[5,10,20,50,100],  n_iter=n_iter,mutation_strategy=3, precompute_pairwise_dist=False, verbose=False)\n",
    "loss_values1[-1]=(loss_value_convex)  \n",
    "if type(selected_cities_n) == list:\n",
    "    selected_cities_n = selected_cities_n[-1]\n",
    "selected_cities_n, selected_cities_n_convex, loss_values,loss_value_convex = optimize_with_initialize_betas(g, l, selected_cities_n_convex, betas=[50],n_iter=n_iter,mutation_strategy=2,precompute_pairwise_dist=False, verbose=False)\n",
    "if type(selected_cities_n) == list:\n",
    "    selected_cities_n = selected_cities_n[-1]\n",
    "loss_values[-1]=(loss_value_convex) \n",
    "total_loss=np.concatenate((loss_values1,loss_values))\n",
    "total_loss=total_loss[::2]\n",
    "f_st[4]=total_loss\n",
    "selected_st[4]=selected_cities_n_convex\n",
    "plt.plot(f_st[4],label = \"Combining\")\n",
    "\n",
    "# plt.hlines(best_f, 0, n_iter, linestyles=\"-.\", label=\"optimal solution\")\n",
    "plt.hlines(result[1], 0, n_iter, linestyles=\"--\", label=\"brut-force solution\")\n",
    "\n",
    "plt.legend()\n",
    "print(np.amin(f_st,1))\n",
    "print(np.amin(f_st))\n",
    "best_min=np.amin(f_st)\n",
    "best=np.argmin(np.amin(f_st,1))\n",
    "print(\"The best cost is=%f, found for strategy %i\"%(best_min,best))\n",
    "# print(f'Approximated Bruteforce best solution {best_f}')\n",
    "print(f'Real Bruteforce best solution {brute_force_f}')\n",
    "\n",
    "plotResult(g,0,selected_st[best],None,f_st[best],None,None)\n",
    "\n",
    "if f_st[best][-1]==brute_force_f:\n",
    "    print(\"Best solution found!\")\n",
    "\n"
   ]
  },
  {
   "cell_type": "code",
   "execution_count": null,
   "metadata": {},
   "outputs": [],
   "source": [
    "print(selected_st[best])\n",
    "f, max_dist, max_idx, convex_hull = objective_function_(N, l, g, None, selected_st[best], None, None)\n",
    "print(f)\n",
    "f, max_dist, max_idx, convex_hull = objective_function_(N, l, g, None, best_selected_cities, None, None)\n",
    "print(f)\n"
   ]
  }
 ],
 "metadata": {
  "colab": {
   "authorship_tag": "ABX9TyMHjD1LWevMEBRvKxj7qq4T",
   "collapsed_sections": [],
   "include_colab_link": true,
   "name": "model.ipynb",
   "provenance": []
  },
  "kernelspec": {
   "display_name": "Python 3",
   "language": "python",
   "name": "python3"
  },
  "language_info": {
   "codemirror_mode": {
    "name": "ipython",
    "version": 3
   },
   "file_extension": ".py",
   "mimetype": "text/x-python",
   "name": "python",
   "nbconvert_exporter": "python",
   "pygments_lexer": "ipython3",
   "version": "3.7.8"
  }
 },
 "nbformat": 4,
 "nbformat_minor": 4
}
