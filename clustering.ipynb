{
 "cells": [
  {
   "cell_type": "code",
   "execution_count": null,
   "metadata": {},
   "outputs": [],
   "source": [
    "# This reloads python code imported from *.py files automatically\n",
    "%reload_ext autoreload\n",
    "%autoreload 2"
   ]
  },
  {
   "cell_type": "code",
   "execution_count": null,
   "metadata": {
    "id": "BMV_GyHTe-A5"
   },
   "outputs": [],
   "source": [
    "import numpy as np\n",
    "import matplotlib.pyplot as plt\n",
    "\n",
    "import tqdm \n",
    "import tqdm.notebook\n",
    "\n",
    "from optimization import *\n",
    "\n",
    "import time\n",
    "# optimal solution\n",
    "from optimal_solution import *\n",
    "from clustering import *"
   ]
  },
  {
   "cell_type": "code",
   "execution_count": null,
   "metadata": {
    "id": "9_4LNOEAfb6H"
   },
   "outputs": [],
   "source": [
    "from scipy.cluster.vq import kmeans,vq,whiten\n",
    "import itertools"
   ]
  },
  {
   "cell_type": "markdown",
   "metadata": {},
   "source": [
    "### Clustering tests"
   ]
  },
  {
   "cell_type": "code",
   "execution_count": null,
   "metadata": {},
   "outputs": [],
   "source": [
    "n_iter = 5000\n",
    "\n",
    "# parameters\n",
    "l = 0.5 # lambda in [0,1], or in [0,2] for G2\n",
    "beta = 50\n",
    "\n",
    "# initialization\n",
    "N = 10\n",
    "n_selected = 0\n",
    "g = G1(N)\n",
    "# g = G2(N)\n",
    "citiesX = g.x\n",
    "citiesV = g.v"
   ]
  },
  {
   "cell_type": "markdown",
   "metadata": {},
   "source": [
    "#### Simple clusters"
   ]
  },
  {
   "cell_type": "markdown",
   "metadata": {},
   "source": [
    "* Automatic selection of centroids"
   ]
  },
  {
   "cell_type": "code",
   "execution_count": null,
   "metadata": {},
   "outputs": [],
   "source": [
    "start_time = time.time()\n",
    "data = whiten(g.x)\n",
    "centroids,_ = kmeans(data,10)\n",
    "clx,_ = vq(data,centroids)\n",
    "centroids_V=[np.sum(g.v, where=(clx == k)) for k in range (centroids.shape[0])]\n",
    "d1=(time.time() - start_time)\n",
    "\n",
    "fig,axes=plt.subplots(1,2,figsize=(12,4))\n",
    "axes[0].scatter(data[:,0],data[:,1], s=g.v,c=clx ,label='cities')\n",
    "sequence = np.arange(centroids.shape[0])\n",
    "axes[1].scatter(centroids[:, 0], centroids[:, 1],s=centroids_V, c=sequence,label='centroids')\n",
    "print(np.sum(g.v))\n",
    "print(np.sum(centroids_V))\n",
    "print(d1)"
   ]
  },
  {
   "cell_type": "markdown",
   "metadata": {},
   "source": [
    "* with defined centroids: population is involved"
   ]
  },
  {
   "cell_type": "code",
   "execution_count": null,
   "metadata": {},
   "outputs": [],
   "source": [
    "start_time = time.time()\n",
    "ind = np.argpartition(g.v, -10)[-10:]\n",
    "data = whiten(g.x)\n",
    "centroids=(data[ind])\n",
    "clx,_ = vq(data,centroids)\n",
    "centroids_V=[np.sum(g.v, where=(clx == k)) for k in range (centroids.shape[0])]\n",
    "d1=(time.time() - start_time)\n",
    "\n",
    "fig,axes=plt.subplots(1,2,figsize=(12,4))\n",
    "axes[0].scatter(data[:,0],data[:,1], c=clx ,label='cities') #s=g.v\n",
    "sequence = np.arange(centroids.shape[0])\n",
    "axes[1].scatter(centroids[:, 0], centroids[:, 1], c=sequence,label='centroids') #s=centroids_V\n",
    "print(np.sum(g.v))\n",
    "print(np.sum(centroids_V))\n",
    "\n",
    "print(d1)"
   ]
  },
  {
   "cell_type": "markdown",
   "metadata": {},
   "source": [
    "### Study case 10 cities"
   ]
  },
  {
   "cell_type": "code",
   "execution_count": null,
   "metadata": {},
   "outputs": [],
   "source": [
    "#n_iter = 5000\n",
    "n_iter = 10000\n",
    "# parameters\n",
    "l = 0.2 # lambda in [0,1], or in [0,2] for G2\n",
    "beta = 20\n",
    "# initialization\n",
    "N = 10000\n",
    "n_selected = 0\n",
    "g = G1(N)\n",
    "# g = G2(N)\n",
    "f_test=0\n",
    "brute_force_f=0"
   ]
  },
  {
   "cell_type": "code",
   "execution_count": null,
   "metadata": {},
   "outputs": [],
   "source": [
    "start_time = time.time()\n",
    "# ind = np.argpartition(g.v, -10)[-10:]\n",
    "nclusters=10\n",
    "ind = np.argpartition(g.v, -nclusters)[-nclusters:]\n",
    "#data = whiten(g.x)\n",
    "data=g.x\n",
    "centroids=(data[ind])\n",
    "centroids,_ = kmeans(data,nclusters)\n",
    "clx,_ = vq(data,centroids)\n",
    "#centroids_V=[np.sum(g.v, where=(clx == k)) for k in range (centroids.shape[0])]\n",
    "centroids_V=g.v[ind]\n",
    "d1=(time.time() - start_time)\n",
    "print('time clustering= '+str(d1))\n",
    "\n",
    "start_time = time.time()\n",
    "pairwise_distances = (scipy.spatial.distance.pdist(g.x, 'sqeuclidean'))\n",
    "# start_time = time.time()\n",
    "# distances=np.zeros((nclusters,nclusters))\n",
    "# for i in range (nclusters):\n",
    "#     for j in range (i+1,nclusters):\n",
    "#         m1=np.where(clx==i)\n",
    "#         m2=np.where(clx==j)\n",
    "#         k=square_to_condensed_list(m1[0], m2[0], N)\n",
    "#         distances[i][j]=distances[j][i]=np.amax(pairwise_distances[k])\n",
    "# d1=(time.time() - start_time)\n",
    "# print('computing method1 '+str(d1))\n",
    "\n",
    "\n",
    "pairwise_distances = scipy.spatial.distance.squareform(pairwise_distances)\n",
    "distances=np.zeros((nclusters,nclusters))\n",
    "for i in range (nclusters):\n",
    "    for j in range (i+1,nclusters):\n",
    "        distances[i][j]=distances[j][i]=np.amax(pairwise_distances[(clx==i)][:,(clx==j)])\n",
    "d1=(time.time() - start_time)\n",
    "print('computing method2 '+str(d1))\n",
    "\n",
    "fig,axes=plt.subplots(1,2,figsize=(12,4))\n",
    "axes[0].scatter(data[:,0],data[:,1],c=clx ,label='cities')\n",
    "sequence = np.arange(centroids.shape[0])\n",
    "axes[1].scatter(centroids[:, 0], centroids[:, 1], c=sequence,label='centroids')"
   ]
  },
  {
   "cell_type": "code",
   "execution_count": null,
   "metadata": {},
   "outputs": [],
   "source": [
    "gbis=G1(N)\n",
    "gbis.x=np.array(centroids)\n",
    "gbis.v=np.array(centroids_V)\n",
    "result=bruteforce_sol_N(10,N, l, gbis,distances)\n",
    "print(result)\n",
    "best_selected_cities=np.array(result[0])\n",
    "# brute_force_f, max_dist, max_idx, convex_hull = objective_function_(N, l, gbis, None, best_selected_cities, None, None)\n",
    "# print(brute_force_f)\n",
    "print(result[1])\n",
    "brute_force_f=result[1]\n",
    "f_test= objective_function_simple(N, l, gbis, best_selected_cities,None)\n",
    "print(f_test)\n",
    "f_test,_,_,_= objective_function_(N, l, gbis,None, best_selected_cities,None,None)\n",
    "print(f_test)\n",
    "plotResult(gbis,0,best_selected_cities,None,np.zeros(10) +brute_force_f,None,None)\n",
    "\n",
    "\n",
    "# best_selected_cities_N=np.zeros(N)\n",
    "# for k in range (N):\n",
    "#     if best_selected_cities[clx[k]]==1:\n",
    "#         best_selected_cities_N[k]=1;\n",
    "# print (best_selected_cities_N)\n",
    "best_selected_cities_N=np.array([best_selected_cities[clx[k]] for k in range (N)])\n",
    "# print (best_selected_cities_N)\n",
    "\n",
    "f_test, max_dist, max_idx, convex_hull = objective_function_(N, l, g, None, best_selected_cities_N, None, None)\n",
    "print(f_test)\n",
    "brute_force_f=f_test\n",
    "plotResult(g,0,best_selected_cities_N,None,np.zeros(10) +f_test,None,None)\n",
    "\n",
    "np.save('sol1', best_selected_cities_N)\n",
    "\n"
   ]
  },
  {
   "cell_type": "code",
   "execution_count": null,
   "metadata": {},
   "outputs": [],
   "source": [
    "# best_sol, best_f = opt_solution_circle(N, l, g, verbose=True)\n",
    "# print(f\"Best solution: {best_f}\")    \n",
    "# plotResult(g,0, best_sol, None, np.zeros(n_iter) + best_f, None, None)  "
   ]
  },
  {
   "cell_type": "code",
   "execution_count": null,
   "metadata": {},
   "outputs": [],
   "source": [
    "initial_selection_probability=0.5"
   ]
  },
  {
   "cell_type": "code",
   "execution_count": null,
   "metadata": {},
   "outputs": [],
   "source": [
    "n_iter = 10000\n",
    "## betas=[5,10,20,50,100]\n",
    "betas=[40]\n",
    "np.random.seed()\n",
    "# selected_cities=(np.random.rand(N) <= initial_selection_probability).astype(np.int32)\n",
    "selected_cities=np.zeros(N)\n",
    "#selected_cities=best_selected_cities_N\n",
    "# print(selected_cities)\n",
    "\n",
    "f_st=np.zeros((5,n_iter))\n",
    "selected_st=np.zeros((5,N))\n",
    "fig=plt.plot\n",
    "for i in range(4):\n",
    "    np.random.seed()\n",
    "    selected_cities_n, selected_cities_n_convex, loss_values,loss_value_convex = optimize_with_initialize_betas(g, l, selected_cities, betas=betas, \n",
    "                                              n_iter=n_iter,mutation_strategy=i, initial_selection_probability=initial_selection_probability,\n",
    "                                              precompute_pairwise_dist=False, verbose=False)\n",
    "    \n",
    "    f = objective_function_simple(N, l, g, selected_cities_n_convex,\n",
    "                          pairwise_distances=None)\n",
    "    loss_value_convex = f\n",
    "    if type(selected_cities_n) == list:\n",
    "        selected_cities_n = selected_cities_n[-1]\n",
    "    loss_values[-1]=(loss_value_convex) \n",
    "#     print(loss_value_convex)\n",
    "    f_st[i]=loss_values\n",
    "    plt.plot(f_st[i],label = \"mutation_strategy=\"+str(i))\n",
    "    selected_st[i]=selected_cities_n_convex\n",
    "    \n",
    "#combining 3 and 2    \n",
    "selected_cities_n, selected_cities_n_convex, loss_values1,loss_value_convex = optimize_with_initialize_betas(g, l,selected_cities, betas=betas,  n_iter=n_iter,mutation_strategy=3, precompute_pairwise_dist=False, verbose=False)\n",
    "loss_values1[-1]=(loss_value_convex)  \n",
    "if type(selected_cities_n) == list:\n",
    "    selected_cities_n = selected_cities_n[-1]\n",
    "selected_cities_n, selected_cities_n_convex, loss_values,loss_value_convex = optimize_with_initialize_betas(g, l, selected_cities_n_convex, betas=[betas[-1]],n_iter=n_iter,mutation_strategy=2,precompute_pairwise_dist=False, verbose=False)\n",
    "if type(selected_cities_n) == list:\n",
    "    selected_cities_n = selected_cities_n[-1]\n",
    "loss_values[-1]=(loss_value_convex) \n",
    "total_loss=np.concatenate((loss_values1,loss_values))\n",
    "total_loss=total_loss[::2]\n",
    "f_st[4]=total_loss\n",
    "selected_st[4]=selected_cities_n_convex\n",
    "plt.plot(f_st[4],label = \"Combining\")\n",
    "\n",
    "# plt.hlines(best_f, 0, n_iter, linestyles=\"-.\", label=\"optimal solution\")\n",
    "plt.hlines(f_test, 0, n_iter, linestyles=\"--\", label=\"brut-force solution\")\n",
    "\n",
    "plt.legend()\n",
    "print('Min of all the methods:')\n",
    "print(np.amin(f_st,1))\n",
    "#print(np.amin(f_st))\n",
    "best_min=np.amin(f_st)\n",
    "best=np.argmin(np.amin(f_st,1))\n",
    "print(\"The best cost is=%f, found for strategy %i\"%(best_min,best))\n",
    "# print(f'Approximated Bruteforce best solution {best_f}')\n",
    "print(f'Real Bruteforce best solution {brute_force_f}')\n",
    "\n",
    "plotResult(g,0,selected_st[best],None,f_st[best],None,None,verbose=False)\n",
    "\n",
    "if f_st[best][-1]==brute_force_f:\n",
    "    print(\"Best solution found!\")\n",
    "    \n",
    "np.save('solbest', selected_st[best])\n",
    "\n"
   ]
  },
  {
   "cell_type": "code",
   "execution_count": null,
   "metadata": {},
   "outputs": [],
   "source": [
    "# print(selected_st[best])\n",
    "# f, max_dist, max_idx, convex_hull = objective_function_(N, l, g, None, selected_st[best], None, None)\n",
    "# print(f)\n",
    "# f, max_dist, max_idx, convex_hull = objective_function_(N, l, g, None, best_selected_cities, None, None)\n",
    "# print(f)\n"
   ]
  },
  {
   "cell_type": "markdown",
   "metadata": {},
   "source": [
    "Test algorithm"
   ]
  },
  {
   "cell_type": "code",
   "execution_count": null,
   "metadata": {},
   "outputs": [],
   "source": [
    "n_iter = 5000\n",
    "# parameters\n",
    "l = 0.9 # lambda in [0,1], or in [0,2] for G2\n",
    "# initialization\n",
    "N = 1000\n",
    "n_selected = 0\n",
    "g = G2(N) # g = G2(N)"
   ]
  },
  {
   "cell_type": "code",
   "execution_count": null,
   "metadata": {},
   "outputs": [],
   "source": [
    "#set number of steps\n",
    "step_cluster=np.int(np.floor(np.log10(N)))\n",
    "print(step_cluster)\n",
    "mutation_strategy=1\n",
    "betas=[20]\n",
    "totalLoss=[]\n",
    "\n",
    "#first try\n",
    "selected_cities=np.zeros(N)\n",
    "selected_cities_n, selected_cities_n_convex, loss_values,loss_value_convex = optimize_with_initialize_betas(g, l, selected_cities, betas=betas, \n",
    "                                              n_iter=n_iter,mutation_strategy=mutation_strategy, initial_selection_probability=initial_selection_probability,\n",
    "                                              precompute_pairwise_dist=False, verbose=False)\n",
    "if type(selected_cities_n) == list:\n",
    "    selected_cities_n = selected_cities_n[-1]\n",
    "# print(selected_cities_n)\n",
    "plotResult(g,0,selected_cities_n,selected_cities_n_convex,loss_values,loss_value_convex,None)\n",
    "\n",
    "# pairwise_distances = (scipy.spatial.distance.pdist(g.x, 'sqeuclidean'))\n",
    "# pairwise_distances = scipy.spatial.distance.squareform(pairwise_distances)\n",
    "# selected_cities_n, selected_cities_n_convex, loss_values,loss_value_convex = optimize_clustering(N, g, l, selected_cities, pairwise_distances, betas=betas, \n",
    "#                                               n_iter=n_iter,mutation_strategy=mutation_strategy, initial_selection_probability=initial_selection_probability, verbose=False)\n",
    "\n",
    "# if type(selected_cities_n) == list:\n",
    "#     selected_cities_n = selected_cities_n[-1]\n",
    "# print(selected_cities_n)\n",
    "# plotResult(g,0,selected_cities_n,selected_cities_n_convex,loss_values,loss_value_convex,None)\n",
    "\n",
    "for stepi in range (0,min(3,np.int(np.floor(np.log10(N)))-1)):\n",
    "    betas=[betas[0]+10]\n",
    "    nclusters=N//(10**(step_cluster-1-stepi))\n",
    "    print('\\n step = '+str(stepi)+', N clusters= '+str(nclusters))\n",
    "    selected_cities=np.zeros(nclusters)\n",
    "    is_in_selected_cluster=np.zeros(N)\n",
    "    if stepi>0:\n",
    "        is_in_selected_cluster=[selected_cities_n[clx[k]]==1 for k in range (N)]\n",
    "        #print(is_in_selected_cluster)\n",
    "        for k in range(N):\n",
    "            c=clx[k]\n",
    "            if selected_cities_n[c]==1:\n",
    "                is_in_selected_cluster[k]=1\n",
    "                \n",
    "    data=g.x\n",
    "    start_time=time.time()\n",
    "    ind = np.argpartition(g.v, -nclusters)[-nclusters:]\n",
    "    centroids=(data[ind])\n",
    "    #centroids,_ = kmeans(data,nclusters)\n",
    "    clx,_ = vq(data,centroids)\n",
    "    centroids_V=[np.sum(g.v, where=(clx == k)) for k in range (centroids.shape[0])]\n",
    "    centroids_V=np.divide(centroids_V,10**(step_cluster-1-stepi))\n",
    "    d1=(time.time() - start_time)\n",
    "    print('time clustering= '+str(d1))\n",
    "    fig,axes=plt.subplots(1,2,figsize=(12,4))\n",
    "    axes[0].scatter(data[:,0],data[:,1],c=clx ,label='cities')\n",
    "    sequence = np.arange(centroids.shape[0])\n",
    "    axes[1].scatter(centroids[:, 0], centroids[:, 1], c=sequence,label='centroids')\n",
    "    g_clusters=G1(N)\n",
    "    g_clusters.x=np.array(centroids)\n",
    "    g_clusters.v=np.array(centroids_V)\n",
    "    \n",
    "    if stepi>0 :\n",
    "        selected_cities=[np.sum((clx==k)*(is_in_selected_cluster))==(sum(clx==k)/2) for k in range (nclusters)]\n",
    "        selected_cities=np.array(selected_cities)\n",
    "        print('selected cities: ')\n",
    "        for k in range (nclusters):\n",
    "            in_cluster=clx==k\n",
    "            is_selected_city=is_in_selected_cluster\n",
    "            good_cities=in_cluster*is_in_selected_cluster\n",
    "            if np.sum(good_cities)==(sum(in_cluster)):\n",
    "                selected_cities[k]=1\n",
    "#             if k==0:\n",
    "#                 print(is_in_selected_cluster)\n",
    "#                 print(in_cluster)\n",
    "#                 print(is_selected_city)\n",
    "#                 print(good_cities)\n",
    "        #print(selected_cities)\n",
    "    \n",
    "    best_selected_cities_N=np.array([selected_cities[clx[k]] for k in range (N)])\n",
    "    f = objective_function_simple(N, l, g, best_selected_cities_N,pairwise_distances=None)\n",
    "    print('f of initializinf function = '+str(f))\n",
    "    np.random.seed()\n",
    "#     selected_cities_n, selected_cities_n_convex, loss_values,loss_value_convex = optimize_clustering(N, g_clusters, l, selected_cities, distances, betas=betas, \n",
    "#                                               n_iter=n_iter,mutation_strategy=mutation_strategy, initial_selection_probability=initial_selection_probability, verbose=False)\n",
    "\n",
    "    print('begin algo')\n",
    "    selected_cities_n, selected_cities_n_convex, loss_values,loss_value_convex = optimize_cluster(N,g_clusters, l, selected_cities, betas=betas, \n",
    "                                              n_iter=n_iter,mutation_strategy=mutation_strategy, initial_selection_probability=initial_selection_probability, verbose=False)  \n",
    "    print('end algo')\n",
    "    if type(selected_cities_n) == list:\n",
    "        selected_cities_n = selected_cities_n[-1]\n",
    "    else:\n",
    "        print('problem!')\n",
    "    #selected_cities_n_convex,loss_value_convex=adding_convex_points_end(N, l, g_clusters,selected_cities_n)\n",
    "#     print(selected_cities_n_convex)\n",
    "#     loss_values[-1]=(loss_value_convex) \n",
    "#     print(loss_value_convex)\n",
    "#     f_st[i]=loss_values\n",
    "#     plt.plot(f_st[i],label = \"mutation_strategy=\"+str(i))\n",
    "#     selected_st[i]=selected_cities_n_convex\n",
    "    plotResult(g_clusters,0,selected_cities_n,selected_cities_n_convex,loss_values,loss_value_convex,None)\n",
    "    totalLoss=np.concatenate((totalLoss,loss_values))\n",
    "    print('end plot')\n",
    "    \n",
    "print('steps done')\n",
    "is_in_selected_cluster=[selected_cities_n[clx[k]]==1 for k in range (N)]\n",
    "selected_cities_n, selected_cities_n_convex, loss_values,loss_value_convex = optimize_with_initialize_betas(g, l, np.array(is_in_selected_cluster), betas=[50], \n",
    "                                              n_iter=n_iter,mutation_strategy=mutation_strategy, initial_selection_probability=initial_selection_probability,\n",
    "                                              precompute_pairwise_dist=False, verbose=False)\n",
    "if type(selected_cities_n) == list:\n",
    "    selected_cities_n_result = np.array(selected_cities_n[-1])\n",
    "plotResult(g,0,selected_cities_n_convex,selected_cities_n_convex,loss_values,loss_value_convex,None)\n",
    "\n",
    "totalLoss=np.concatenate((totalLoss,loss_values))\n",
    "\n",
    "plotResult(g,0,selected_cities_n_convex,selected_cities_n_convex,totalLoss,loss_value_convex,None)\n",
    "\n",
    "    "
   ]
  },
  {
   "cell_type": "code",
   "execution_count": null,
   "metadata": {},
   "outputs": [],
   "source": [
    "# sol=np.load('sol.npy')\n",
    "# f = objective_function_simple(N, l, g, sol,\n",
    "#                           pairwise_distances=None)\n",
    "# print(f)\n",
    "\n",
    "plotResult(g,0,selected_cities_n_result,selected_cities_n_convex,loss_values,loss_value_convex,None)"
   ]
  },
  {
   "cell_type": "code",
   "execution_count": null,
   "metadata": {},
   "outputs": [],
   "source": [
    "result, result_convex,loss,convex_loss=do_optimization_cluster_simple(g, l, beta_init=20, n_iter=10000, mutation_strategy=3, initial_selection_probability=0.5, precompute_pairwise_dist=False, verbose=True, show=True)"
   ]
  },
  {
   "cell_type": "code",
   "execution_count": null,
   "metadata": {},
   "outputs": [],
   "source": [
    "result, result_convex,loss,convex_loss=do_optimization_cluster(g, l, betas_init=20, beta_last=50, n_iter=10000, mutation_strategy=3, initial_selection_probability=0.5, precompute_pairwise_dist=False, verbose=True, show=True)"
   ]
  }
 ],
 "metadata": {
  "colab": {
   "authorship_tag": "ABX9TyMHjD1LWevMEBRvKxj7qq4T",
   "collapsed_sections": [],
   "include_colab_link": true,
   "name": "model.ipynb",
   "provenance": []
  },
  "kernelspec": {
   "display_name": "Python 3",
   "language": "python",
   "name": "python3"
  },
  "language_info": {
   "codemirror_mode": {
    "name": "ipython",
    "version": 3
   },
   "file_extension": ".py",
   "mimetype": "text/x-python",
   "name": "python",
   "nbconvert_exporter": "python",
   "pygments_lexer": "ipython3",
   "version": "3.7.8"
  }
 },
 "nbformat": 4,
 "nbformat_minor": 4
}
