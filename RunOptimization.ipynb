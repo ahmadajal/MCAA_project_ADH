{
 "cells": [
  {
   "cell_type": "code",
   "execution_count": null,
   "metadata": {},
   "outputs": [],
   "source": [
    "%reload_ext autoreload\n",
    "%autoreload 2\n",
    "\n",
    "import time\n",
    "import itertools\n",
    "import numpy as np\n",
    "import matplotlib.pyplot as plt\n",
    "\n",
    "import tqdm \n",
    "import tqdm.notebook\n",
    "\n",
    "from optimization import G1, G2\n",
    "import multiprocessing\n",
    "import optimization\n",
    "import baseline \n",
    "import smooth"
   ]
  },
  {
   "cell_type": "code",
   "execution_count": null,
   "metadata": {},
   "outputs": [],
   "source": [
    "def plotResult(selected_cities_n, loss_values, num_cities_per_step):\n",
    "    print('Final loss ', loss_values[-1])\n",
    "    fig, axes = plt.subplots(1, 2, figsize=(14, 4))\n",
    "    axes[0].plot(loss_values)\n",
    "    axes[0].set_ylabel('Loss')\n",
    "    axes[0].set_xlabel('Iterations')\n",
    "    axes[0].set_title('Loss Evolution')\n",
    "    \n",
    "    \n",
    "    m = selected_cities_n == 1\n",
    "    not_selected = selected_cities_n == 0\n",
    "    axes[1].scatter(g.x[not_selected, 0], g.x[not_selected, 1], s=8)\n",
    "    axes[1].scatter(g.x[m, 0], g.x[m, 1], c='r', s=8)\n",
    "    axes[1].set_title('Selected cities')\n",
    "    axes[1].set_aspect(1)\n",
    "\n",
    "    plt.xlim(0, 1)\n",
    "    plt.ylim(0, 1)\n",
    "    if num_cities_per_step is not None:\n",
    "        plt.figure(figsize=(4, 2))\n",
    "        plt.plot(np.arange(num_cities_per_step.shape[0]), num_cities_per_step)\n",
    "        plt.title(\"#selected cities in each step\")"
   ]
  },
  {
   "cell_type": "code",
   "execution_count": null,
   "metadata": {},
   "outputs": [],
   "source": [
    "# Here we would load a given data set\n",
    "\n",
    "np.random.seed(42)\n",
    "N = 200\n",
    "g = G2(N)\n",
    "# g = G1(N)\n",
    "\n",
    "l = 1.0 # lambda"
   ]
  },
  {
   "cell_type": "code",
   "execution_count": null,
   "metadata": {
    "scrolled": false
   },
   "outputs": [],
   "source": [
    "# Run the optimization to compute the selected cities\n",
    "n_iter = 10000\n",
    "n_second_pass_iter = 5000\n",
    "\n",
    "use_multithreading = True\n",
    "total_runs = 12\n",
    "\n",
    "def beta(i, n_iter):\n",
    "    if i < n_iter // 2:\n",
    "        return 0.4\n",
    "    elif i < n_iter * 2 / 3:\n",
    "        return 1\n",
    "    else:\n",
    "        return 5\n",
    "\n",
    "def run_optimization(i):\n",
    "    np.random.seed(i)\n",
    "    if i == 0:\n",
    "        curr_selected, curr_loss_values, number_of_selected_cities = baseline.optimize(\n",
    "            g, l, beta=10, n_iter=n_iter, verbose=not use_multithreading)\n",
    "        \n",
    "    else:\n",
    "        curr_selected, curr_loss_values, number_of_selected_cities = smooth.optimize(\n",
    "            g, l, beta=beta, n_iter=n_iter, verbose=not use_multithreading)\n",
    "    \n",
    "    return curr_selected, curr_loss_values\n",
    "\n",
    "losses = []\n",
    "all_selected = []\n",
    "if use_multithreading:\n",
    "    with multiprocessing.Pool(10) as p:\n",
    "        with tqdm.notebook.tqdm(range(total_runs)) as pbar:\n",
    "            for i, result in enumerate(p.imap_unordered(run_optimization, range(total_runs))):\n",
    "                selected, loss_values = result\n",
    "                pbar.update()\n",
    "                losses.append(loss_values)\n",
    "                all_selected.append(selected)\n",
    "else:\n",
    "    for i in tqdm.notebook.tqdm(range(total_runs)):\n",
    "        selected, loss_values = run_optimization(i)\n",
    "        losses.append(loss_values)\n",
    "        all_selected.append(selected)\n",
    "\n",
    "# Select the best solution\n",
    "losses = np.array(losses)\n",
    "plt.figure()\n",
    "for i in range(total_runs):\n",
    "    plt.plot(np.arange(losses[i].shape[0]), losses[i])\n",
    "plt.title('Loss Values')\n",
    "min_idx = np.argmin(losses[:, -1])\n",
    "loss_values = losses[min_idx, :]\n",
    "selected = all_selected[min_idx]\n",
    "plotResult(selected, loss_values, None)"
   ]
  },
  {
   "cell_type": "code",
   "execution_count": null,
   "metadata": {
    "scrolled": false
   },
   "outputs": [],
   "source": []
  },
  {
   "cell_type": "code",
   "execution_count": null,
   "metadata": {},
   "outputs": [],
   "source": []
  },
  {
   "cell_type": "code",
   "execution_count": null,
   "metadata": {},
   "outputs": [],
   "source": []
  },
  {
   "cell_type": "code",
   "execution_count": null,
   "metadata": {},
   "outputs": [],
   "source": []
  }
 ],
 "metadata": {
  "kernelspec": {
   "display_name": "Python 3",
   "language": "python",
   "name": "python3"
  },
  "language_info": {
   "codemirror_mode": {
    "name": "ipython",
    "version": 3
   },
   "file_extension": ".py",
   "mimetype": "text/x-python",
   "name": "python",
   "nbconvert_exporter": "python",
   "pygments_lexer": "ipython3",
   "version": "3.8.5"
  }
 },
 "nbformat": 4,
 "nbformat_minor": 4
}
