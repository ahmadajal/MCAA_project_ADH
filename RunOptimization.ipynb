{
 "cells": [
  {
   "cell_type": "code",
   "execution_count": null,
   "metadata": {},
   "outputs": [],
   "source": [
    "%reload_ext autoreload\n",
    "%autoreload 2\n",
    "\n",
    "import time\n",
    "import itertools\n",
    "import numpy as np\n",
    "import matplotlib.pyplot as plt\n",
    "\n",
    "import tqdm \n",
    "import tqdm.notebook\n",
    "\n",
    "from optimization import G1, G2\n",
    "from optimization_clean import *\n",
    "import multiprocessing\n"
   ]
  },
  {
   "cell_type": "code",
   "execution_count": null,
   "metadata": {},
   "outputs": [],
   "source": [
    "def plotResult(selected_cities_n, loss_values, num_cities_per_step):\n",
    "    print('Final loss ', loss_values[-1])\n",
    "    fig, axes = plt.subplots(1, 2, figsize=(12, 4))\n",
    "    axes[0].plot(loss_values)\n",
    "    axes[0].set_ylabel('Loss')\n",
    "    axes[0].set_xlabel('Iterations')\n",
    "    axes[0].set_title('Loss Evolution')\n",
    "    m = selected_cities_n == 1\n",
    "    not_selected = selected_cities_n == 0\n",
    "    axes[1].scatter(g.x[not_selected, 0], g.x[not_selected, 1],\n",
    "                    label='Non selected Cities')\n",
    "    axes[1].scatter(g.x[m, 0], g.x[m, 1], c='r', label='Selected cities')\n",
    "    axes[1].set_title('Selected cities')\n",
    "    box = axes[1].get_position()\n",
    "    axes[1].set_position([box.x0, box.y0, box.width * 0.8, box.height])\n",
    "    # Put a legend to the right of the current axis\n",
    "    axes[1].legend(loc='center left', bbox_to_anchor=(1, 0.5))\n",
    "\n",
    "    plt.xlim(0, 1)\n",
    "    plt.ylim(0, 1)\n",
    "    if num_cities_per_step is not None:\n",
    "        plt.figure(figsize=(4, 2))\n",
    "        plt.plot(np.arange(n_iter), num_cities_per_step)\n",
    "        plt.title(\"#selected cities in each step\")"
   ]
  },
  {
   "cell_type": "code",
   "execution_count": null,
   "metadata": {},
   "outputs": [],
   "source": [
    "# Here we would load a given data set\n",
    "\n",
    "# np.random.seed(42)\n",
    "N = 1000\n",
    "g = G2(N)\n",
    "\n",
    "l = 1.5 # lambda\n"
   ]
  },
  {
   "cell_type": "code",
   "execution_count": null,
   "metadata": {},
   "outputs": [],
   "source": []
  },
  {
   "cell_type": "code",
   "execution_count": null,
   "metadata": {
    "scrolled": false
   },
   "outputs": [],
   "source": [
    "# Run the optimization to compute the selected cities\n",
    "n_iter = 20000\n",
    "\n",
    "def beta(i):\n",
    "    p1 = 0.5\n",
    "    p50 = 0.006\n",
    "    beta0 = -np.log(p1)\n",
    "    beta1 = -np.log(p50)\n",
    "    v = beta0 * (beta1 / beta0) ** (i/(n_iter-1.0)) \n",
    "    return v *4\n",
    "    \n",
    "def beta(i):\n",
    "    if i < n_iter // 2: \n",
    "        return 0.4\n",
    "    elif i < n_iter * 2/ 3:\n",
    "        return 1\n",
    "    else: \n",
    "        return 5\n",
    "    \n",
    "    \n",
    "def run_optimization(i):\n",
    "    np.random.seed(i)\n",
    "    curr_selected, curr_loss_values = optimize(g, l, beta=beta, n_iter=n_iter, verbose=True)\n",
    "    return curr_selected, curr_loss_values\n",
    "\n",
    "use_multithreading = True\n",
    "losses = []\n",
    "all_selected = []\n",
    "total_runs = 12\n",
    "if use_multithreading:\n",
    "    with multiprocessing.Pool(12) as p:\n",
    "        with tqdm.notebook.tqdm(range(total_runs)) as pbar:\n",
    "            for i, result in enumerate(p.imap_unordered(run_optimization, range(total_runs))):\n",
    "                selected, loss_values = result\n",
    "                pbar.update()\n",
    "                losses.append(loss_values)\n",
    "                all_selected.append(selected)\n",
    "else:\n",
    "    for i in tqdm.notebook.tqdm(range(total_runs)):\n",
    "        selected, loss_values = run_optimization(i)\n",
    "        losses.append(loss_values)\n",
    "        all_selected.append(selected)\n",
    "\n",
    "losses = np.array(losses)\n",
    "print(losses[:, -1])\n",
    "# num_cities_per_step = np.array(selected_cities_n).sum(axis=1)\n",
    "# if type(selected_cities_n) == list:\n",
    "#     selected_cities_n = selected_cities_n[-1]\n",
    "\n",
    "# plotResult(selected_cities_n, loss_values, num_cities_per_step)\n"
   ]
  },
  {
   "cell_type": "code",
   "execution_count": null,
   "metadata": {
    "scrolled": false
   },
   "outputs": [],
   "source": [
    "# min_idx = -1\n",
    "# min_loss_value = np.inf\n",
    "# n_initializations = 20\n",
    "# for i in range(n_initializations):\n",
    "#     curr_selected, curr_loss_values = optimize(g, l, beta=beta, n_iter=n_iter)\n",
    "#     # loss_convex_pass_one = loss_value_convex\n",
    "#     # # Second pass\n",
    "#     # if mutation_strategy == 5: \n",
    "#     #     selected_cities_n, selected_cities_n_convex, loss_values, loss_value_convex = optimize(\n",
    "#     #         g, l, \n",
    "#     #         beta=35, \n",
    "#     #         n_iter=n_iter, \n",
    "#     #         mutation_strategy=4,\n",
    "#     #         initial_selection_probability=initial_selection_probability,\n",
    "#     #         selected_cities=selected_cities_n_convex)\n",
    "#     #     print(f\"Second pass changed loss from {loss_convex_pass_one} to {loss_value_convex}\")\n",
    "#     print(curr_loss_values[-1])\n",
    "#     if curr_loss_values[-1] < min_loss_value: \n",
    "#         min_loss_value = curr_loss_values[-1]\n",
    "#         loss_values = curr_loss_values\n",
    "#         selected_cities_n = curr_selected\n",
    "\n",
    "# num_cities_per_step = np.array(selected_cities_n).sum(axis=1)\n",
    "# if type(selected_cities_n) == list:\n",
    "#     selected_cities_n = selected_cities_n[-1]\n",
    "\n",
    "# plotResult(selected_cities_n, loss_values, num_cities_per_step)"
   ]
  },
  {
   "cell_type": "code",
   "execution_count": null,
   "metadata": {},
   "outputs": [],
   "source": []
  },
  {
   "cell_type": "code",
   "execution_count": null,
   "metadata": {},
   "outputs": [],
   "source": []
  }
 ],
 "metadata": {
  "kernelspec": {
   "display_name": "Python 3",
   "language": "python",
   "name": "python3"
  },
  "language_info": {
   "codemirror_mode": {
    "name": "ipython",
    "version": 3
   },
   "file_extension": ".py",
   "mimetype": "text/x-python",
   "name": "python",
   "nbconvert_exporter": "python",
   "pygments_lexer": "ipython3",
   "version": "3.8.5"
  }
 },
 "nbformat": 4,
 "nbformat_minor": 4
}
